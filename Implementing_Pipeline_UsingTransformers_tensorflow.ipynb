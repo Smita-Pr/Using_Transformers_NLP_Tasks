{
  "nbformat": 4,
  "nbformat_minor": 0,
  "metadata": {
    "colab": {
      "provenance": [],
      "authorship_tag": "ABX9TyOWrnPvoiZV6yo8Z5+Ud4SZ",
      "include_colab_link": true
    },
    "kernelspec": {
      "name": "python3",
      "display_name": "Python 3"
    },
    "language_info": {
      "name": "python"
    }
  },
  "cells": [
    {
      "cell_type": "markdown",
      "metadata": {
        "id": "view-in-github",
        "colab_type": "text"
      },
      "source": [
        "<a href=\"https://colab.research.google.com/github/Smita-Pr/Using_Transformers_NLP_Tasks/blob/main/Implementing_Pipeline_UsingTransformers_tensorflow.ipynb\" target=\"_parent\"><img src=\"https://colab.research.google.com/assets/colab-badge.svg\" alt=\"Open In Colab\"/></a>"
      ]
    },
    {
      "cell_type": "code",
      "source": [
        "!pip install datasets evaluate transformers[sentencepiece]"
      ],
      "metadata": {
        "colab": {
          "base_uri": "https://localhost:8080/"
        },
        "id": "LeBYOP9JYmrX",
        "outputId": "74cc77eb-728c-4eb2-e9f2-adbe4cf2a886"
      },
      "execution_count": 1,
      "outputs": [
        {
          "output_type": "stream",
          "name": "stdout",
          "text": [
            "Requirement already satisfied: datasets in /usr/local/lib/python3.10/dist-packages (2.14.6)\n",
            "Requirement already satisfied: evaluate in /usr/local/lib/python3.10/dist-packages (0.4.1)\n",
            "Requirement already satisfied: transformers[sentencepiece] in /usr/local/lib/python3.10/dist-packages (4.34.1)\n",
            "Requirement already satisfied: numpy>=1.17 in /usr/local/lib/python3.10/dist-packages (from datasets) (1.23.5)\n",
            "Requirement already satisfied: pyarrow>=8.0.0 in /usr/local/lib/python3.10/dist-packages (from datasets) (9.0.0)\n",
            "Requirement already satisfied: dill<0.3.8,>=0.3.0 in /usr/local/lib/python3.10/dist-packages (from datasets) (0.3.7)\n",
            "Requirement already satisfied: pandas in /usr/local/lib/python3.10/dist-packages (from datasets) (1.5.3)\n",
            "Requirement already satisfied: requests>=2.19.0 in /usr/local/lib/python3.10/dist-packages (from datasets) (2.31.0)\n",
            "Requirement already satisfied: tqdm>=4.62.1 in /usr/local/lib/python3.10/dist-packages (from datasets) (4.66.1)\n",
            "Requirement already satisfied: xxhash in /usr/local/lib/python3.10/dist-packages (from datasets) (3.4.1)\n",
            "Requirement already satisfied: multiprocess in /usr/local/lib/python3.10/dist-packages (from datasets) (0.70.15)\n",
            "Requirement already satisfied: fsspec[http]<=2023.10.0,>=2023.1.0 in /usr/local/lib/python3.10/dist-packages (from datasets) (2023.6.0)\n",
            "Requirement already satisfied: aiohttp in /usr/local/lib/python3.10/dist-packages (from datasets) (3.8.6)\n",
            "Requirement already satisfied: huggingface-hub<1.0.0,>=0.14.0 in /usr/local/lib/python3.10/dist-packages (from datasets) (0.17.3)\n",
            "Requirement already satisfied: packaging in /usr/local/lib/python3.10/dist-packages (from datasets) (23.2)\n",
            "Requirement already satisfied: pyyaml>=5.1 in /usr/local/lib/python3.10/dist-packages (from datasets) (6.0.1)\n",
            "Requirement already satisfied: responses<0.19 in /usr/local/lib/python3.10/dist-packages (from evaluate) (0.18.0)\n",
            "Requirement already satisfied: filelock in /usr/local/lib/python3.10/dist-packages (from transformers[sentencepiece]) (3.12.4)\n",
            "Requirement already satisfied: regex!=2019.12.17 in /usr/local/lib/python3.10/dist-packages (from transformers[sentencepiece]) (2023.6.3)\n",
            "Requirement already satisfied: tokenizers<0.15,>=0.14 in /usr/local/lib/python3.10/dist-packages (from transformers[sentencepiece]) (0.14.1)\n",
            "Requirement already satisfied: safetensors>=0.3.1 in /usr/local/lib/python3.10/dist-packages (from transformers[sentencepiece]) (0.4.0)\n",
            "Requirement already satisfied: sentencepiece!=0.1.92,>=0.1.91 in /usr/local/lib/python3.10/dist-packages (from transformers[sentencepiece]) (0.1.99)\n",
            "Requirement already satisfied: protobuf in /usr/local/lib/python3.10/dist-packages (from transformers[sentencepiece]) (3.20.3)\n",
            "Requirement already satisfied: attrs>=17.3.0 in /usr/local/lib/python3.10/dist-packages (from aiohttp->datasets) (23.1.0)\n",
            "Requirement already satisfied: charset-normalizer<4.0,>=2.0 in /usr/local/lib/python3.10/dist-packages (from aiohttp->datasets) (3.3.1)\n",
            "Requirement already satisfied: multidict<7.0,>=4.5 in /usr/local/lib/python3.10/dist-packages (from aiohttp->datasets) (6.0.4)\n",
            "Requirement already satisfied: async-timeout<5.0,>=4.0.0a3 in /usr/local/lib/python3.10/dist-packages (from aiohttp->datasets) (4.0.3)\n",
            "Requirement already satisfied: yarl<2.0,>=1.0 in /usr/local/lib/python3.10/dist-packages (from aiohttp->datasets) (1.9.2)\n",
            "Requirement already satisfied: frozenlist>=1.1.1 in /usr/local/lib/python3.10/dist-packages (from aiohttp->datasets) (1.4.0)\n",
            "Requirement already satisfied: aiosignal>=1.1.2 in /usr/local/lib/python3.10/dist-packages (from aiohttp->datasets) (1.3.1)\n",
            "Requirement already satisfied: typing-extensions>=3.7.4.3 in /usr/local/lib/python3.10/dist-packages (from huggingface-hub<1.0.0,>=0.14.0->datasets) (4.5.0)\n",
            "Requirement already satisfied: idna<4,>=2.5 in /usr/local/lib/python3.10/dist-packages (from requests>=2.19.0->datasets) (3.4)\n",
            "Requirement already satisfied: urllib3<3,>=1.21.1 in /usr/local/lib/python3.10/dist-packages (from requests>=2.19.0->datasets) (2.0.7)\n",
            "Requirement already satisfied: certifi>=2017.4.17 in /usr/local/lib/python3.10/dist-packages (from requests>=2.19.0->datasets) (2023.7.22)\n",
            "Requirement already satisfied: python-dateutil>=2.8.1 in /usr/local/lib/python3.10/dist-packages (from pandas->datasets) (2.8.2)\n",
            "Requirement already satisfied: pytz>=2020.1 in /usr/local/lib/python3.10/dist-packages (from pandas->datasets) (2023.3.post1)\n",
            "Requirement already satisfied: six>=1.5 in /usr/local/lib/python3.10/dist-packages (from python-dateutil>=2.8.1->pandas->datasets) (1.16.0)\n"
          ]
        }
      ]
    },
    {
      "cell_type": "code",
      "execution_count": 2,
      "metadata": {
        "id": "JDi5JcJFW-w4"
      },
      "outputs": [],
      "source": [
        "from transformers import AutoTokenizer\n",
        "\n",
        "checkpoint = \"distilbert-base-uncased-finetuned-sst-2-english\"\n",
        "tokenizer = AutoTokenizer.from_pretrained(checkpoint)"
      ]
    },
    {
      "cell_type": "markdown",
      "source": [
        "## Implementing The Transformer library Pipeline Function\n",
        "\n",
        "The transformer models can't understand text directly , tokenizers convert the text inputs to a numerical representation of the text which then is further processed to complete NLP tasks.\n",
        "\n",
        "The tokenizer does the following steps :\n",
        "*   Split the input text into words,subwords,symbols etc called tokens\n",
        "*   map each token to an integer value\n",
        "*   Add info/inputs useful for model\n",
        "\n",
        "the preprocessing has to match the model pretraining step for which we use pretrained function"
      ],
      "metadata": {
        "id": "B9EjdtifY7-e"
      }
    },
    {
      "cell_type": "code",
      "source": [
        "from transformers import AutoTokenizer\n",
        "\n",
        "checkpoint = \"distilbert-base-uncased-finetuned-sst-2-english\"\n",
        "tokenizer = AutoTokenizer.from_pretrained(checkpoint)\n"
      ],
      "metadata": {
        "id": "indGcZrKaUKv"
      },
      "execution_count": 3,
      "outputs": []
    },
    {
      "cell_type": "code",
      "source": [
        "raw_inputs = [\n",
        "    \"I've been waiting for a HuggingFace course my whole life.\",\n",
        "    \"I hate this so much!\",\n",
        "]\n",
        "inputs = tokenizer(raw_inputs, padding=True, truncation=True, return_tensors=\"tf\")\n",
        "print(inputs)"
      ],
      "metadata": {
        "colab": {
          "base_uri": "https://localhost:8080/"
        },
        "id": "QyVyAcjZafwL",
        "outputId": "eeea8f00-b3f4-4fa8-cf37-5f24730aed7b"
      },
      "execution_count": 4,
      "outputs": [
        {
          "output_type": "stream",
          "name": "stdout",
          "text": [
            "{'input_ids': <tf.Tensor: shape=(2, 16), dtype=int32, numpy=\n",
            "array([[  101,  1045,  1005,  2310,  2042,  3403,  2005,  1037, 17662,\n",
            "        12172,  2607,  2026,  2878,  2166,  1012,   102],\n",
            "       [  101,  1045,  5223,  2023,  2061,  2172,   999,   102,     0,\n",
            "            0,     0,     0,     0,     0,     0,     0]], dtype=int32)>, 'attention_mask': <tf.Tensor: shape=(2, 16), dtype=int32, numpy=\n",
            "array([[1, 1, 1, 1, 1, 1, 1, 1, 1, 1, 1, 1, 1, 1, 1, 1],\n",
            "       [1, 1, 1, 1, 1, 1, 1, 1, 0, 0, 0, 0, 0, 0, 0, 0]], dtype=int32)>}\n"
          ]
        }
      ]
    },
    {
      "cell_type": "markdown",
      "source": [
        "### Understanding and using the model\n",
        " ![Screenshot 2023-10-28 at 23.35.19.png](data:image/png;base64,iVBORw0KGgoAAAANSUhEUgAAAzIAAAEyCAYAAAAhquUEAAAYS2lDQ1BJQ0MgUHJvZmlsZQAAWIWVeQk4lV3X/77PfI75HPM8z2Se53meZxKO6ZjiGEOJJGOiQkglGSuVQiUiDUoZekiSSIZKoaJC9d2Gep73ef/X/7u+fa59799Ze+211l57XPcNAFeVb2RkGIIRgPCIGKqDqQG/m7sHP3YWYAAb/OMEAr7k6Eh9OzsrAKff5X+mlWEAbZRPZTZk/Xf9/zcx+QdEkwGA7GDs5x9NDofxVQBQ5eRIagwAmA26UHxM5AaGM2CmwgbCOHMDB23h8g3st4UvbfI4ORjCuBsAHK2vLzUIAPp+mM4fRw6CZdAvwnXECH9KBAAsKBjrhIfv9geAywjmEYd5ImG80Q81v3/ICfoPmX5/ZPr6Bv3BW33ZTDgjSnRkmO+e/6M7/vcUHhb7W4conGmDqWYOG32G/TYSuttyA9PCeD7Cz8YWxkQYf6P4b/LDGEEIjjVz3uJHcJOjDWGfAVYYy/n7GlnCmBvGJhFhNlbbdL9Aiok5jOEZgkigxJg7wZgdxpkB0caO2zynqbsdtnUhmgOphvrb9Ae+1E29G7rGY0Od9bflfwoOMN+Wj6RPDHZyhTEBxsJxFBcbGNPDWDY61NFym0crMdjQ5jcPNdZhw35hGDsERJgabMlHxgVSTRy2+bPDo3/3F3k6mGJus42vxAQ7mW35B9lN9t20H+4Lsj8gQt/5t5yAaDer333xDzAy3uo7ci4gwtlxW863yBgDh622KEJkmN02P0owIMx0gy4IY6XoOMfttiiXGHhCbslHBUbG2Dlt2YlKDPG1sNuyB3UEWAFDYAT4QSyc/cBuEAIoT+Zb5uF/WzUmwBdQQRAIADLblN8tXDdrIuCnI0gEH2AUAKL/tDPYrA0AcTD9xx/q1lMGBG7Wxm22CAUzMA4HliAM/h+72SrijzYX8AamUP5Luy+cybC9YXDeqP9/039T/6bowxSrbUrsb438DL85McYYI4wZxgQjgeJE6aA0UVbwUw/OCig1lPrvfvzNj55BD6Bfo4fQE+jnuyhp1H9ZaQ0mYPkm277w+6cvUKKwTGWUAUoblg5LRrGiOIEMSgnWo4/ShTUrw1TDbbs3vML/L9n/0YN/jMY2H14Oj8Cz4fXw4v9uSS9Jr/xHyoav/+mfLVv9/vjb8E/Nv/Ub/sP7/nBp+W9OZCayCXkf2YnsQbYhWwA/sgPZiuxF3trAf2bXm83Z9Vubw6Y9obAcyn/p+z2yG56MlmuQeyu3vlUXE5CwsUcDw92Re6iUoOAYfn34RAjgN48gy0rzK8gpKAKwcb5sbV+fHTbPDYi1728a+SAAqvD+jF/9mxb+GYBL8Nrnt/6bJuINLz8MALUz5Fhq3BYNtfFAw7sEA7zSOAAvEALicH8UgArQBHrAGFgAW+AE3IE3bH0wPM+pIB4kg1SQAXLAEXAclIJT4CyoBRfAFdAC2kAnuAcegX4wBF7As2cavAeLYAWsQRCEheggEsQB8UEikBSkAKlBOpAxZAU5QO6QDxQERUCxUDJ0AMqBCqFS6AxUB12GrkOdUA80AD2HJqG30CdoFYFE0CKYETwIUcQOhBpCH2GJcELsRAQhohCJiHTEYUQJohJxHtGM6EQ8QgwhJhDvEctIgKRBsiIFkDJINaQh0hbpgQxEUpH7kNnIImQl8iLyBjzOT5ETyHnkdxQGRULxo2TgGWyGckaRUVGofahcVCmqFtWM6kY9RU2iFlE/0XRobrQUWgNtjnZDB6Hj0RnoInQ1+hr6LryWptErGAyGFSOGUYXXojsmBJOEycWcxDRibmMGMFOYZSwWy4GVwmpjbbG+2BhsBvYE9jy2AzuIncZ+w9Hg+HAKOBOcBy4Cl4YrwtXj2nGDuFncGp4RL4LXwNvi/fF78Pn4KvwNfB9+Gr9GYCKIEbQJToQQQiqhhHCRcJcwRvhMQ0MjSKNOY09DodlPU0JzieYBzSTNd1oirSStIa0XbSztYdoa2tu0z2k/09HRidLp0XnQxdAdpquju0M3TveNnkQvS29O70+fQl9G30w/SP+RAc8gwqDP4M2QyFDE0MTQxzDPiGcUZTRk9GXcx1jGeJ3xGeMyE4lJnsmWKZwpl6meqYdpjoglihKNif7EdOJZ4h3iFAlJEiIZksikA6Qq0l3SNDOGWYzZnDmEOYf5AvMT5kUWIosSiwtLAksZyy2WCVYkqyirOWsYaz7rFdZh1lU2HjZ9tgC2LLaLbINsX9m52PXYA9iz2RvZh9hXOfg5jDlCOQo4WjhecqI4JTntOeM5Kzjvcs5zMXNpcpG5srmucI1yI7gluR24k7jPcvdyL/Pw8pjyRPKc4LnDM8/LyqvHG8J7jLed9y0fiU+Hj8J3jK+D7x0/C78+fxh/CX83/6IAt4CZQKzAGYEnAmuCYoLOgmmCjYIvhQhCakKBQseEuoQWhfmErYWThRuER0XwImoiwSLFIvdFvoqKibqKHhJtEZ0TYxczF0sUaxAbE6cT1xWPEq8U/0sCI6EmESpxUqJfEiGpLBksWSbZJ4WQUpGiSJ2UGpBGS6tLR0hXSj+ToZXRl4mTaZCZlGWVtZJNk22R/bhDeIfHjoId93f8lFOWC5OrknshT5S3kE+TvyH/SUFSgaxQpvCXIp2iiWKKYqvikpKUUoBShdKIMknZWvmQcpfyDxVVFarKRZW3qsKqPqrlqs/UmNXs1HLVHqij1Q3UU9Tb1L9rqGjEaFzRWNCU0QzVrNec0xLTCtCq0prSFtT21T6jPaHDr+Ojc1pnQldA11e3Uve1npCev1613qy+hH6I/nn9jwZyBlSDawZfDTUM9xreNkIamRplGz0xJho7G5caj5sImgSZNJgsmiqbJpneNkObWZoVmD0z5zEnm9eZL1qoWuy16LaktXS0LLV8bSVpRbW6YY2wtrA+aj1mI2ITYdNiC2zNbY/avrQTs4uyu2mPsbezL7OfcZB3SHa470hy3OVY77jiZOCU7/TCWdw51rnLhcHFy6XO5aurkWuh64TbDre9bo/cOd0p7q0eWA8Xj2qPZU9jz+Oe017KXhlewzvFdibs7PHm9A7zvrWLYZfvriYftI+rT73Puq+tb6Xvsp+5X7nfItmQXEx+76/nf8z/bYB2QGHAbKB2YGHgXJB20NGgt8G6wUXB8xRDSillKcQs5FTI11Db0JrQX2GuYY3huHCf8OsRxIjQiO7dvLsTdg9ESkVmRE5EaUQdj1qkWlKro6HondGtMczwRb43Vjz2YOxknE5cWdy3eJf4pgSmhIiE3j2Se7L2zCaaJJ5LQiWRk7qSBZJTkyf36u89sw/a57evK0UoJT1ler/p/tpUQmpo6uM0ubTCtC8HXA/cSOdJ358+ddD0YEMGfQY149khzUOnMlGZlMwnWYpZJ7J+ZvtnP8yRyynKWc8l5z7Mk88ryft1OPDwk3yV/IojmCMRR4YLdAtqC5kKEwunjlofbT7Gfyz72Jfju473FCkVnSomFMcWT5RYlbSeED5x5MR6aXDpUJlBWWM5d3lW+deT/icHK/QqLp7iOZVzavU05fTIGdMzzZWilUVnMWfjzs5UuVTdP6d2rq6aszqn+kdNRM1ErUNtd51qXV09d31+A6IhtuHtea/z/ReMLrRelLl4ppG1MecSuBR76d1ln8vDVyyvdDWpNV28KnK1/BrpWnYz1LynebEluGWi1b114LrF9a4bmjeu3ZS9WdMm0FZ2i+VWfjuhPb39V0dix/LtyNvznUGdU127ul7ccbvzV7d995O7lncf3DO5d+e+/v2OB9oP2no0eq4/VHvY8kjlUXOvcu+1x8qPrz1RedLcp9rX2q/ef2NAa6B9UHew86nR03t/mf/1aMhmaGDYeXjkmdeziRH/kbnnYc+XRuNG117sH0OPZb9kfFk0zj1e+UriVeOEysStSaPJ3teOr19Mkafev4l+sz6dPkM3UzTLN1s3pzDX9tbkbf87z3fT7yPfr81nfGD6UP5R/OPVBb2F3kW3xekl6tKvT7mfOT7XfFH60rVstzy+Er6y9jX7G8e32u9q3++vuq7OrsWvY9dLfkj8uPHT8ufYr/BfvyJ9qb6bVwEknBGBgQB8qgGAzh0AEhyfETy34r/thIQvHwi4dIFkofeIdPhE7UNloE0wSMwjbAkuAm9FkKDB0szTDtK10NcwVDM2MrUSu0iPmPtZRlhfsc2xv+dY4lzl+sGD4MXyEfjpBIiCRCFWYXYRNlF2MW5xHgl+SX4pQWlhGVFZsR3ScnLyigoqihpKusrGKuaq5mom6iYaJpqGWvraWjoaukp6svqiBjyGzEYEo1/Gn01mTJ+b9Zq3WdRaHrVKsQ6xcbM1tlO2F3PgcmR0wjkjXSBXhBvKHe/B6MnhJbxTxltil7APny+nHwuZ5E8MIAWyBnEFC1KkQ1RDTcJcwikRybsLI6uiTlNLogticmOz4rLjDyeU7KlNbE96sRfsk07Ztf9E6osDgum7D3YewmQKZSlkG+Q45gbmJR4uyK89crtgtHD5GNNxmSKL4sCSAycqSq+XDZa/Obl8Cnua44xkpdZZ2yq/czHVB2uKamvrrtc/bBg9/+7C90bcJbbL4ld0m9yvRl3Laj7Z0tjacb3nRt/N/rZHt7raL3eU3U7p3NWlcYd4Z6b7+t36e+X3cx4k9Pg9NH8k20vfO//47pPyvsh+gwHSwNTglaepf9kPiQyjht8+6x1pfF44GvPCZUztJefL9fHxV50T5yazXu+ecn6jNS0Mz7KV2b/mrr4tfpfyPmye/IH8MXIhZ/Ha0sJnvS9nVkhfS75LrT5ZT/mp8evXP8ZfATmHKkRbYlgwL7FNuFx8EMGIRpKWgXadbpZ+hGGE8RXTG+IH0mfmFZYfrGtsP9h/cvzgXOH6zL3AM8M7xjfIf1fgumC1UI5wmIiVqKQYXuydeI9EnWS2FEXaUkZGlk52YceA3FX5YoVkRbKSvbKBioKqgBpR7Zf6R40xzR6tZu1KnVzdeD0ffQsDBUNOI4TRW+MnJpdMC8yizZ0sVCzZLNesXlnfsam3LbBLsg90cHTUd5J3FnAhuWJdV93eu4959Hre8mrcedr76K5DPsm+VD8K2dffI8Ap0D7IJtiSYhliFqoZJhsuEMGymyYSEbke9Y36PfpHLDqOGC+UoLHHKTE6qSi5be9MCs1+vlSZNO0DNul+B+Mz8g5VZ3ZkjWZ/zWXOUzhsnx9xJK+gofDB0TfHfhVxFiuX2J0ILT1Ydqq89WR/xdypn2eYKyXOalfZnSNXx9Ycqi2B97nehoULxIuKjY6Xoi7nX2lo6r46du1TC6aV47rkDY2bFm1utwLbYzpSbqd2Hug6eCej+9DdzHvZ93Mf5PXkPcx7lNeb+zjnSVbfof70gdTBvU/j/ooa2j0c+SxmJOn5wdGjLyrHml7eG3/+6sMkeE2cEnwjP60zYz7rN3f67Yf3yvNJH9o//lzUXIr7dPHzm2X2FcuvKd+avs+uca87/Mj+2b09/sYIfeQO5EdUJ/oQxhErjl3CXcdnEBxouGnGac/ShdOrMyAYOhnTmSyIDMR+0hFmWxYGlses2Wwm7BB7K0cEpxDnCFcOtw73B54yXjPeL3wV/Gb8HwWOCWoIjgntFeYXbhfxFlkXLRFTEusVDxBflzgqKSXZIeUoNSOdKiMiMyKbu8Ngxxe5GnlPBTqFDsVIJQGlQeU0FQWVSdV8NW21D+plGuYay5pntey1fmo36LjrYnWv6ZH1ifq3DSIN+Q37jdKMlYxnTUpNbeF7x03zKAspizeWFVYe1qzWT20KbR3sSHbD9iccvB2FHd85XXZOdDF2ZXAddat2j/Yw8KT1HPY6tTPYW8F7bdddnwJfLz8JvxVyt//RAN9AxSBU0HBwPSUlxClUOgwd9ir8RkTJ7vhI1ygNKm80Kno+Zii2M64xviIhf09qYnxSaLL/3p373FKc9juk2qfZH3BIdzronrHzUEBmaFZ0dkpOZm5hXsXhuvzmI3cKBgrHj348jiqSKPYqOXLibulauexJv4rjpx6eXq9UOBtQVXqurwZVq1UXX9/Y8P6C5MWQxvpLC1dUmvZf7W3maAlr7b7BdzOl7XW7VUdbp3zX+W6pu5fvGzwYfZjQy/e4vy9vwOmp6BAYfj/yZvTdS/BKZHLXVP0Mei7xPfhQtUj+rLui9t15vWRj/LfeA24kjAoAxw8BsPGex6EOgNzzAIjtAYANjj3t6ABwUgcIAVMALXcByEL7z/kBwYEnAZAAD5AEasAMji/D4JiyGDSCHjAFfkDskDLkCEVDx6FW6CUc80kjXBCpiEbEOJIBaYCMR15AzsBRmheqDPUCjsR80OfQHzAqmFTMEywPNhzbgSPhKLhOPCc+Fj9IUCQUE9ZpyDSPadVpa+nY6XLpEfRJ9F8ZYhlWGBOZIKZsIiuxiqRG6mcOYcGynGM1Zp1hy2SXYu/niOHk4Gzn8uem4b7C48GL5L3A5wlHBAMC+YK2QkxCT4WLRTxFBURnxM6LR0toSEKSPVIF0p7w7FyUHdzRJlctX6iwT5Gi5KisocKnCqlOqLWpH9MI0dTWotca067TidHV1cPpDeg3GVw1bDG6Ydxucse0x6zPfNhi3HLWasl6zRZnx2ov6qDmaOVEdk52KXFtd5vzIHnqe0XurPQe8iH46vslkVv9vwaqBSUFd4YQQp3DqsKXd5tFVkQtRGvF5MSOxyslHNmzlOSafG+fdkp7qmXaVHpWhnYmyBrIuZRXnl9YYHYUeexuUUFJQKlhuXSF4GmRSqUqm+qo2rL6RxdAo+plmyb3a8EtydeP37xya7BjpYu32+xezIPTD5/0/uiTGdj59PDQ7RHSKHnswvj8JPeU2rTerPxb+nfP5g9/3LHQuWT2qfuLwnLpyuo3++/nVpfWNX6k/Ly9uX9sjT8RHn8JoApMgCsIAfvAMdAAusE4+AaRIDnIBoqAjkBN0HMEQEjAUX4a4jLiNRzHWyHTkR3INZQ26gCqF82ODkQ3Y/AYb0wzlhEbhn2Ek8bl45bxXvh7BFlCMQ2SJopmktaZ9iGdIV07vRb9LTiKfcBozzgOx6m/iMdIsqTHzBFw5NnK6stGw9bKHsjBynGfcw+XNNckdzGPLS+Ot4tvP7+BAEbgsWCRkK+wrPC6SK9ohViUuLEEl8QnyYdSZ6VTZDxlNXdIyLHL4+XXFRYUp5SeKT9Uual6Xq1U/ZAGVdNTy1BbUodRZ1l3VK9dv9HgsmGTUYvxTZMO026zh+b9Fs8sX1nNWi/ZrNnh7FkdxBzVnayd/V32upa6XXcf9fjhJbjTwjtm12mfPj+IrOIfEVAXOBMsSgkJuRy6Gm4aUbR7LkqLuje6IxYVZxVfnDCTqJ50OHl2n3FKbSp92p4Ds/B+0p9pkXU/xyy397BD/kRBylHeY7eLAkvoT7SW+Z8kVdw7vbdS5eync5drYuu0GjDnhy6eu5R8xeuqSjN9y9T1qzcP3LLpYL892VXXTb2n9QDbM/yo7vH+Pq8BnaciQ0zDD0acn0+/SHzJPH5lwmlyfap22n2WYa7nXea85UfGhWdLpz+HLKt8RXzrWy1bD/qpuD3+SIABtJs7gDhQgWeAGwgHB8EpcBOMwutfELKAYqEqaBhBgzCCV34XEoe0R55CfkJZoGrQeDQV/QrjBK92G+wQjoz7ji8iqBOmaU7Q6tGO0SXR89P3MMQzSjJOMZ0i+pEkSF+Z77NUsCaxebLrcUhxsnPRcCO413lWedf5gQAWvoHyCMuKaIs6iAWJ75c4IXkNjrsXZRl3KMi5yu9TqFLsU1pTkVB1VytUH9Rk1nLXrtJZ0NPWzzN4ZaRonGMyaaZlXmTxycrO+oItrV2Y/UNHSacc53euFm71HnhPitd9b9FdB32m/QzJ1QHIQP+gOxTRkIzQuXCriMZIlqgE6kSMUezFePaEfXveJ7nB61QlpSaVI+1wOupgcsanTI+sy9m/cp3yag6vHnEsuHiUcIxy/F6xVEnuiYUy1/JbFaKnCuC93/9s7znN6ppaprrE+pnzjhfaGkUv5V9eafK+eq9ZpuVI6+IN+5sXbxHaAzvaO4ldAXea76Lu2d0vezD1UOIRpbf68WQfZ7/9wMHBq09fDxGG5Z45jFCfHx6te3FnbOjlzPjSq/VJ6DV2CvMGMw2mV2c+zI7PPX7b+q7yfeZ8xAfrj1IL2IVXi61LWZ88Pkt8/vSlbTltxegr5mv3t5Tvmt+XVs+teawT1pt/kH/S/bzyy31j/Le+HW2eH4wAnObaQAOXlv/ru83Wd6V/xCb/LsHm6bKRNk6XzRI+acD/AJnr0ACJstzrAAAAVmVYSWZNTQAqAAAACAABh2kABAAAAAEAAAAaAAAAAAADkoYABwAAABIAAABEoAIABAAAAAEAAAMyoAMABAAAAAEAAAEyAAAAAEFTQ0lJAAAAU2NyZWVuc2hvdOYGMA4AAAHWaVRYdFhNTDpjb20uYWRvYmUueG1wAAAAAAA8eDp4bXBtZXRhIHhtbG5zOng9ImFkb2JlOm5zOm1ldGEvIiB4OnhtcHRrPSJYTVAgQ29yZSA2LjAuMCI+CiAgIDxyZGY6UkRGIHhtbG5zOnJkZj0iaHR0cDovL3d3dy53My5vcmcvMTk5OS8wMi8yMi1yZGYtc3ludGF4LW5zIyI+CiAgICAgIDxyZGY6RGVzY3JpcHRpb24gcmRmOmFib3V0PSIiCiAgICAgICAgICAgIHhtbG5zOmV4aWY9Imh0dHA6Ly9ucy5hZG9iZS5jb20vZXhpZi8xLjAvIj4KICAgICAgICAgPGV4aWY6UGl4ZWxZRGltZW5zaW9uPjMwNjwvZXhpZjpQaXhlbFlEaW1lbnNpb24+CiAgICAgICAgIDxleGlmOlBpeGVsWERpbWVuc2lvbj44MTg8L2V4aWY6UGl4ZWxYRGltZW5zaW9uPgogICAgICAgICA8ZXhpZjpVc2VyQ29tbWVudD5TY3JlZW5zaG90PC9leGlmOlVzZXJDb21tZW50PgogICAgICA8L3JkZjpEZXNjcmlwdGlvbj4KICAgPC9yZGY6UkRGPgo8L3g6eG1wbWV0YT4K02rtPAAAQABJREFUeAHsnQW8VMUXxw+8R3d3gwoCfzqVkgYVBOmQbkS6S0JSAQUsJKQ7pEFKUqRROhVpkO7//OZxl33Jvvc27t39HT6P3b0xd+537tyZc+bMmSgvlAiFBEiABEiABEiABEiABEiABCxEIKqF8sqskgAJkAAJkAAJkAAJkAAJkIAmQEWGDwIJkAAJkAAJkAAJkAAJkIDlCFCRsVyRMcMkQAIkQAIkQAIkQAIkQAJUZPgMkAAJkAAJkAAJkAAJkAAJWI4AFRnLFRkzTAIkQAIkQAIkQAIkQAIkQEWGzwAJkAAJkAAJkAAJkAAJkIDlCFCRsVyRMcMkQAIkQAIkQAIkQAIkQAJUZPgMkAAJkAAJkAAJkAAJkAAJWI4AFRnLFRkzTAIkQAIkQAIkQAIkQAIkQEWGzwAJkAAJkAAJkAAJkAAJkIDlCFCRsVyRMcMkQAIkQAIkQAIkQAIkQAJUZPgMkAAJkAAJkAAJkAAJkAAJWI4AFRnLFRkzTAIkQAIkQAIkQAIkQAIkQEWGzwAJkAAJkAAJkAAJkAAJkIDlCFCRsVyRMcMkQAIkQAIkQAIkQAIkQAJUZPgMkAAJkAAJkAAJkAAJkAAJWI4AFRnLFRkzTAIkQAIkQAIkQAIkQAIkQEWGzwAJkAAJkAAJkAAJkAAJkIDlCFCRsVyRMcMkQAIkQAIkQAIkQAIkQAJUZPgMkAAJkAAJkAAJkAAJkAAJWI4AFRnLFRkzTAIkQAIkQAIkQAIkQAIkQEWGzwAJkAAJkAAJkAAJkAAJkIDlCFCRsVyRMcMkQAIkQAIkQAIkQAIkQAJUZPgMkAAJkAAJkAAJkAAJkAAJWI4AFRnLFRkzTAIkQAIkQAIkQAIkQAIkQEWGzwAJkAAJkAAJkAAJkAAJkIDlCFCRsVyRMcMkQAIkQAIkQAIkQAIkQAL+REAC4SXw4oXIi+cBfzgXvykkECWKYqD+8BlFmUj0b2IJRCBQ3UE9CrSXP3yRAKpNoHpD82KIj4HR5uj2hnUnREa+tpF1x9dKPOT7pSITMhduDUIAjcfzp+rvWcAfGhUKCYRGAIpMVD/1p94wfuoTHTVfFdSVQHWH2ouvPgoO3beuN6g7L+uPQyd56UFGe4P6oxUZ1h0vLWnn3JZRZ4w65JxUmYrZCUR5ocTsmWT+PEcAT8ezJ686Yp7LCa9sVQJoVPyiqT+YTXxIodGdMNUBe/ayE2bV8mO+PUcAdSaqUXc8lw23Xxl1x2h32ENxO37LXxDeANqIhvqDdofi1QSoyHh18Ubu5tABe/Y4YAQmcinxbBIIUGT8ogdYmr2dBzphuiOmOmQUEogsAX9Vb2AMwEinN4thOEO7QwXGm0vaPfcGhQZtjq47PmREcw9d81yFiox5ysJUOXmqGhJ0xOhCZqpisXxmoqqOmNGwWP5mQrgB3RFTdQf1h0ICziSAkU0oNN5qYTZGYdDuUEjAmQS0R4AyBKAOUbyPABUZ7yvTSN8ROmFPH0U6GSZAAiESgJXMP0aAlSzEAyy6EUoM6g07YhYtQAtkG4YA1B1vU2a0EgPjmfICoJCAKwigzmhDAJUZV+D1aJpePlDtUbaWvDiVGEsWm6Uy7ZUdfswlQ0eM1mRLPYtWy+xzFTgC72hMfvcWwai/rjtedE/eUjbedB+oM9plkYGKvKlY9b1QkfG6Io34DaEThopOIQFXE9DKDDpkXjKH5KmqO3Qnc/VTw/RBAHUGz5u3uP2i3nAkhs+2OwjgOeN72h2k3XsNKjLu5W3aq2mrGBpHxrAzbRl5W8aMZ87qi6loS5+qOxQScBcBb3nmtPGMdcddjw2vowjwmfO+x4CKjPeVaYTuCJXbW6zjEQLAkzxCQDcqFncpgZXPW6zjHnkIeNEIEdDvbAvXHZshI0J3z5NIIOIEUHf4zo44P7OdSUXGbCXigfzoBsXCDaIHkPGSTiSgGxWLjgR6i2XcicXJpNxEAKPnVnbJQt5pPHPTw8LLBCKA587KdSfQzfCHUJHhQ6ArNK0TfBA8RQCNilU7NGwMPfXU8LogAEXaqu9u5J1CAp4ioJ8/ixrQPMXMrNelImPWknFjvqzaiXQjIl7KxQSs2KlBB5J1x8UPBpMPkwBGZaxYd5Bn1p0wi5Y7XUwAzx+fQRdDdlPyVGTcBNqsl0Fn7IWq0BQS8CQBKz6DCIVrVWu4J8ua13YuASt2xlB3KCTgaQJWrDueZmbG61ORMWOpuDFPujPG4VU3EuelQiKA59BqjQqVmJBKktvcTUArBRZ7h1vRcOHucuX1XE+A73DXM3bHFajIuIOyia/BimziwvG1rFmtM0arsq89oaa8X7zDrRY2nyMypnyUfC5TfA69o8ipyHhHOUb8LizWeYz4jfJMsxOwWmfMavk1e/kzfxEnYLlnke1OxAubZzqPAJ9D57H0YEpUZDwI3wyXtlwDaAZozINrCFitUbFafl1TakyVBMJNgO1OuJHxBBcQ4HPoAqgeSJKKjAeg85IkQAIkQAIkQAIkQAIkQAKRI0BFJnL8eDYJkAAJkAAJkAAJkAAJkIAHCFCR8QB0XpIESIAESIAESIAESIAESCByBKjIRI4fzyYBEiABEiABEiABEiABEvAAASoyHoDOS5IACZAACZAACZAACZAACUSOABWZyPHj2SRAAiRAAiRAAiRAAiRAAh4gQEXGA9B5SRIgARIgARIgARIgARIggcgRoCITOX48mwRIgARIgARIgARIgARIwAMEqMh4ADovSQIkQAIkQAIkQAIkQAIkEDkCVGQix49nkwAJkAAJkAAJkAAJkAAJeIAAFRkPQOclSYAESIAESIAESIAESIAEIkeAikzk+PFsEiABEiABEiABEiABEiABDxCgIuMB6LwkCZAACZAACZAACZAACZBA5AhQkYkcP55NAiRAAiRAAiRAAiRAAiTgAQJUZDwAnZckARIgARIgARIgARIgARKIHAEqMpHjx7NJgARIgARIgARIgARIgAQ8QICKjAeg85IkQAIkQAIkQAIkQAIkQAKRI0BFJnL8eDYJkAAJkAAJkAAJkAAJkIAHCFCR8QB0XpIESIAESIAESIAESIAESCByBKjIRI4fz/YSAqPHfiG79+z0krvhbZCA9Ql8NX60bNm6yeEbuX79mgwdPkguXDzv8Dk8kARIgARIwNoE/K2dfebelwlcvHhBps2YEiaCPr0GhLnf2Dly9DCJHj26FCpYxNjkks9Mb6SW0iXfkynfz3BJ+kyUBFxJ4LsfJsmNG9elZ/e+wS5z9twZmTlruhQuXFTKlikfbH94N4z5aqQ0b9pKSrxbyqFTr1y9IkOGD5SSJUpLurTpHTqHB3k/geEjPpfnz5/bbjRWrFhSoXxleTtHTts2d3w5cfK4zJs/O9ClkiVLLjWqfyxJkiQNtN1qP+YtmC2Nm9aTzRt2uLwNtRob5tf1BKjIuJ6xS66wef0VuXrlkdSsl84l6Vsh0dv/3ZYt2zbZsrp37x6JnyCBZMv6hm1bH3FMkbGd4OIvJd4pJfny5nfxVZh8eAmsWfGv3Lv7VKrXSiNRokYJ7+k+c/y3338jR/88opWLYkXfCXTfP0z5VsZ8OUI6tPvMKYpMoMT5w7QEfpp8Rt56O54UfdecnfHBQ/tL1izZJHXqNJrh339flD79e8jI4WP1s+oMsKgTXXt8KiuXrQ81ueMnjmlFu3ChohIjRgx93MGD+2XA4D6y5pdfJXeu/4V6rtl3ZEifUUqXek9SpEhp9qx6Xf6mfX9WMmaKLSXLJve6e3P0hqjIOErKZMclTxVTtm26JgtmXfBZZQYWNTQAhuQpkF2KF3tXvhn/nbHJdJ/TpswyXZ6YIZE3c8STmVPOKcvtC/moTlqJSmUmxMciSpQokiVzVpk992cJqsjMmTdTMmXMrNg5x2MZ6TgrrRBvhhudQiDn/xLIqmWX5NkzkXdKmVOZadO6g7Rt1cF2v527dZDuvTrrkZk3sr1p2x7RL+fOn32tG6QxKjRj6hzbiCFGN8tVKilNmteXvbsOR/TyHj8PyllYSpzHM+jFGcicNY78uvaKvkNfVWaoyFj0Ac/+dnyp3zSDzP/5gk8rM44W39z5s2TDxnW6YwS3l5o1aod56q1bN+WbSeOlauUP5H//y6uP/fOvo4J0DhzYJ7mU9ezT9p1tLgHwy587b5Z07dxTlixdKJO++1oyZsgkLZq1lgL5C9muhe0YMTJcb+DTH1Syv5VDPlLuBpBr167KzNnTZdtvWyRVqtQqvTaSK2du2ynDvhgszZq0lB07f9PXbNywqdSr09C2n18cI5Axcxxp2Dyj/KyUmbkzLkjthunUs8KRmaD0Xrx4If36DJJOXdrL2FETJFq0aPqQ37Zv1Z85384lOMZebt68IbOU4rN122aB5faDqtW0wcH+GHyf/vNPsmbdKnn08KG0bd1RYkSPESyt02dO6Xq25/dd8sYbb+k6iHpB8RyBgkUTq+cgiixb9I88e/rcEpbhwQOHy6Rvv9bvTUOROXjogCxaMl+OHj2s3aNqfVxX0qfLEAjs1Ok/yuq1K+XunTtStcqH0rplO1m0eL7MXzRXKXLP9BwtnID3cNq0r/eWSJw4iXTq2FVatmkiqCeJEiUWGATQdiRIkFB6KGUL+Rs9cpzOx85d22XJskVy5uxpKa5GROvWbiBwT7OXy5f/lfkL52jF6smTJ9KkcXP54P3qtkPmL5ij6xn2VapYRerUqm/b9+DBA/lhymTZvOVX7Y73cc06+hrGATBgrFi5TOe1UoUqthGtU6dPypy5M6VD+88kfrz48lDVYYzOtm/XSY4d+1MGD+kvCRMl0m1T5YpVjeT0J0ZywR388uUtIHHjxNXbkW9jFC3QCfwRiMC7pZNJrNh+snLJJb3dF5UZ55jOAmHlD3cRQOerUYuM8veFB1qZcdd1rXadeo0+ljbtm+tO0ePHj6Vl2ybySbNXL++g94MX/Ee13pfNW3+VnC+VBigKJcsUkdu3b+mGAY1d0XfzC178kAsXzku/gb0Elr45StnJmye/rN+4VspXLqXnFBjXmKiUo7XrVhs/5YXdPzQG8PE/eeqE3o/Jy6XLFZeNv66XBvUaS+zYcaRQsf/J/gN/2M7/fNgAGTVmuAz8vK+8+07JYA2v7UB+eS2B9BljSyOlzJw/c08rM8+fBe6QvzYBHzgAIzK3b9+WJKoDtmr1Ctsdo/OFThXcPXGMIcYz/OW4UZImVRrdqSlbsYT8NO0H4xD9WbdhTenVt5se0YGC0rhZPbl2/WqgEZnDRw5J8ZIF5fyFc7oO/v3PRSmo6gOs2hTPEshTIJFyy0wrmzdelXUrL3s2Mw5c/d9/Azp9Rkd57frVUrh4Htm0eaNkUEoEjEfFShQQuIMZ0q5jSxkxaqi0VMYkdLKnTv9B/tj3u25X7t+7pw+zf58b573uE3UE83agxEBmzZ4hU6Z+L5U/KCt5lRuyYUibNWeGbg+OqHqQLk06mTh5gpQqW0yguBgCBadoifyyYNE8yZ07j1aG2qp8G+1Uq7ZNpXf/7tqQULRIcenW8zOBMcyQ6h9XUca62dJRGek+/OAjQb3955+/9e4evbtI737dtZLWqnlbfRwMbBDM/0HbhfYR8ujRQ/27v2oTUa/z5SsgyHcN1a7u/WOPPgb//fjTd9JHpflOsRL6/fGLUpLwLtEcgxhEbCfxSzACBQon1m7RmzdcFUw78DXhiEw4Shy+iGaUhImjy5XLj/QD7IvaeFhlghGQxUsWyO87D9kmd3bu1F0KFs2tJwWjQYKg82V0wPCyh3Vs88ad4ufnp/ejo9WjWx/p8lkP/RsWLjR8sCK3atFWb8N/sLDBUg2BVS5fobf1aIq9RUzvfPlf314D9Te4HZRQihL8pJE/CBoguPEsWbhS/0bD8vjxIxmpFJdZ0+frbfjvl1XL5bfNe/S1bRu98Muxo3dk5zbXd1pjxvKTE3/dkQ1rLku5yvT5DvooPXz4QCvWs1WHA881FH90nDau3aatwPYjMu07tVbP7GPZ//ufNkvrxG8nSNsOLXRnCtZm1CGMYm5Ys9XmroYgHVnfShdoRKa+Mkhg9HHIoC90lt5XIzswFHz/42RdN4Pmk79fEdi+5Zp6pu++2uCibzFj+smOrdckTdqYkiN3AhddJXLJXrlyWdp/2kpb+9GZ/+/Of9KgUS39Hv9qzDe2xCtWLSP11HsfbQcEIw6DBg6TMqXL6t81PqqlPzGKcOnff2TDr+vEeJ/rHQ78t33HNv0+/6hawAg8TkE7NGPm1EAT56GgNGvZSD/7Rhv0uaoH75QqKFCwFsxdpq+GdiqtUnI2rd+uf+M/tGVQlKAgLFuxRPbvOWqby4LR/2o1K8tnn3aTO4oDRmIWzV+h58AhyAbaMEMwytOiaWspX7ai3oT26HUCowfqNaR3j/6SJkMSbcjLn6+g3jZWBfSAF0O3Lr30b7iLox3s0LaTVsL0RhP+Z9a+YAZl3IYyg08Yun1FqMiEo6Qxocqsgoc3WYqYZs2ex/KFDhLcuOwj1MD9BaMXcAkwFBkjg3ixLsfLXnW8MEQOQQhYWL3q121kHKY/4Rd88NB+/d3ovNk3SGgkIJdeWv/0j1D+g+XrwMF9smfHQfH3D6iWy5YvlulTZgc6o0jhYjJk2MBA2xDZCQqUt0u8+P7q5ez6Orhr+0OlwEaRN7LH83ak4b4/POdQuuvUri+DhvQTuGDCZSx9uvSC5x37jbqAxFH/Bg8YZlNisA1zFbp06yh4vtGJgSIOd0n7OTdx1Ogj6oExrwCjMbCOY9THXtAR3a/qDSVsAkmSxZAnj19F7gr76IjtffLkhZw/d19QT9Okd309DU8uJ6nRi6XKJQud+kOHD0ry5Clk5rR5+rmEoevO3TvSXnWe7QWd9gaf1BaMlMOgVKBAIZmqRhIrqohnCB4QXjHmezX8pI6e7I90EXgA8zrHvHQdM9KEsmQfQRMjFZB2bT41DtHKySeNmum5Pvcf3BeMMsHt+cfvptuOwRdjpGeRus+gE/JxbbiBwWUTbSRc6cZ/PVbyKY+CoBP38yuFDa5l1T6sITmyvx3oGkF/GO8AuGYbEjNmTMmcOYv8ezlgNAzbcV240BlifL+uRlmN78Y+M32atS+IAFDJkseQOHF8q2vvW3cbyZpgxtEODCNCiUH0shy5AjrekbxNrzr9qgrJWrBA4WD3BKvV4SMHbdthBYPvM9y4IEf/OiJp0qTV3zFPBYLQyUHFmMsSdLvxG9Fpnjx5bPwM8fMv+BCryDr9eg+St97Mro8x3AUaNa0r+LOXpEmT2X4i33Hj+kaHO3XaWII/V8rKpZfk6dMXev5Zhky+Y9EKL1P48EORhxKCuWf2fvZGWqh7EKMeGdvxCZcew70Hx2VWHcWwxEirQJFcwQ5DuGVK2ATeVEo5/lwlqDM//3hWvYv8pWkbNb8jYTRXXSpC6WIUwX4EAW0CRikgCNsNSZM64H2vf+D3y/c/3sVQZGb8NEe7S2E0H+0HovO1bN7GONzhT4w2GPNa0Lm3V1iQCJT3OC/niRiJIo8wVuF4ezHCjKN+GG0G8hqSwIUNI0Cx4r9y/TSOg0EC8suydbotypgtlXaP7qYMDdWr1dT7vpv0kzailShdWOe/XZuOwZQ/fWAY/0WLFl2P0BqH1KpZVxC62eAIRQn5z5wpi3GIKT/N2BdE4KeryjMHfcFkKWKYkpurMhXVVQkzXdcToBLzesaYVwIrXFDBi9u+sYAFCUrM/DlL9TA75tQYfsWx4wR0aE8cPS8P/nsR6A9WvcjI06dPVfz9usoi/T9tnTbSihM3YMIj1psJes0LpwMaXuNYfjqHAEIwH/zjljRslsGnhuUjSg/Ky0LlUrZSKTO1P64XLJmECRPpbTdCqH/oVBnPOObbGEpNsERebojzsg7u2rYvWH1YvWJjaKdxuxsIPFNzyWZPPSe3bz0xpRIDBFmyZrO5S8FlylBisM94tozOPLZBbr2c72FMPscozvgvJwnaAYyY9FZzP+C67KgYo4uFChWx5SWoEhNaWhih/E/NPzNGOozjjLqFPBoGrasvDW/GMcZn7FixBe6YQdsT/MbIDAQjTfAC+PPQaW1Uw/xSzB+CYGRnzKjxcuLP8zoIzudDA+Zn6p0R/A/u2ofVCFnJ99TaU2ruHFzbVixdG8HUfPc0X1ZiUOpUZCz67FOJcazg0GjB9cWYhIiz8B3bDF9nIyVMcMRQOEZGMNKB+P6QosqdC7JARaZxtmDyKEZkpv80O9DEZjRMCBiACDMU1xPYvf267Pv9pjRollHSZYjt+gt6wRXq1KqnOzmYVGxMmra/LUQ0gy88XHrsZd2GNWoy8CMpU6qs3owIgLt279AR+uyPg5JvuOPkzpVHu3rOU376FHMRWL7wH1MrMa+jhRE9vO+XLA/8nOK5hfKSQ7lc2QtGxMeNnajnWBrR+mIpJQFRt1wlaMdQHxAxzF6QR7h0YkFNjObjEy7TIQnuE+0e5gi9TjDiCiMa0jQm9BvnQKEZNeIrFfGsarB9xjGOfiJQTV8VBREjQRjxwTw7XJviOAFfV2JAiq5ljj8vpjoSk7ka+diErogUAFYgh39xrXrVpU/PATqJoV8MkvTpM9gm1WMjLF1pXi6YBmvd6C++kvqNa6lwkQ0kz//yCSaBdurSTi8GCGUH1maEioVFyZhLE978wZ8ZkV5gzb548YL+Qxpx1WgMJpB+PW6ylK9USq8zgEmX8F8+fPSQ9l/GXBmK8wgkTxlTGrfIKKnSBLibOC9l700JdaB1i3byTvESod7kRLWmU5ny7+hoR5hb8EAFCsBEf4zmGC5hHZWLDqI0tWj9iR4NxZocCI373K5jCJcarA/VsEkdHSGwuvLTh6sNIgNizk3KlKkk0csRIET1CytPoWaWOyJEIOsbcaVspRQSN541uxNwz4Lxqv+AXpIsSTKtvGCBS4Raxgg95mphXk3PPl1U6PDqUk1Nct+zd7eOcDZowFDNzFjk+JvJ43W4ZIxsYE0lZwnmgmE+JzwFEIAGhi4sBg0lY93qzfoyMBxMUCNGGEXBPFCE/UcQggnffCULVTAAzK9ZqJScAso17jMV8hntGkZ5/lHHtGnZXrtWox5WqfS+NuhBaYKRbcjgEXqeEIIKIOT0Rx/WlEPKLRvtH9zLIiNYtgBzZnIrjwQI2kHcB+6X4hiBAkUS6zkxvuZOZk/Hmm8e+zvw0e++FJHC0SKG3/ObKnSrvUDJWL96izRv1VgqVCmtdyGO/ewZCwTD9Yag4wO/Z0PgT42GY9acn/ULH5HJ4IKAUJKIKBNPzUuB7/C9u3e1IoOJibCaGW4KRjrvFi8ZKF24EhgTRQ8ePqDPQWMD5coQ+AhPnFBAKzOrVmwQRFFDJw+CzmCBlxFf8BudwZCs4dhHcZwA65NjrNA5sq8nxvoWxtno0BnPN7ZhtGbl8vW6/iGgBeTTDl3ki6Gj9Xf8B4Vor4oMhVDitesHREL6cvQEOaJCnGdIn9F2HNZ+QifnMxXiHH71MDh8+P5H8khF8oNAmUFAjoGD+0pzNVE76HwCW0L84lQCOfMkcGp6zk4M70iE/g5LevXoJ/HixZPW7ZrJvfv3tDIzb/YS3aHHeQhGgaAxeEZh0IJgjowRIACj54i8hREGzFVBFLGgikwyNZKDNiJmjMDzXHRidv9hhDKkZ3fihO/1iAtCGENQN5YtXq3bCeN0tElo21BH4K6ZIH4CqauMcXDjRH1ZrdoTRMNEGGUIJvi3VkoMBG0LRmy6q5DM4ABlCfUUig0EbeLosV9Itx4BQRGwRpoRpQ3uofb35q/qKX5jRMte8qswzPZzeBCFsO+Anjos8917r6LqYf4d7i2iRkL7a3r7d7ZdKtKfskS/8PaC5v2FTuDJQ5FnT0Lfzz0k4C4C0dT8RL/o7rpa5K/z+L6amOs6b5LIZ5Ap+AyB6MobMmpApHhL3PPDO5bIJjPpQgIYfUHghN+2/B5ocj+C7lSvWUUWL/hFK1cuzIJOOqbrYmC4OutM/yWBqCRBAiRAAiRAAiRAAiRAAu4igEU0H6qFM+2jcNpfGyNOFBJwhABdyxyhxGNIgARIgARIgARIgAScQiBvnnySWrn8lSlXXM1FbShvKLfwjWpRUcyP699nsA5i4JQLMRGvJ0DXMq8v4rBvkK5lYfPhXvcRoGuZ+1jzSt5FgK5l3lWevnQ303/+Sc5fOKdvGfNyEA0t6FxXV/Kga5kr6bonbSoy7uFs2qtQkTFt0fhcxqjI+FyR84adRICKjJNAMhmfI0BFxvpFzjky1i9D3gEJkAAJkAAJkAAJkAAJ+BwBKjI+V+S8YRIgARIgARIgARIgARKwPgEqMtYvQ94BCZAACZAACZAACZAACfgcASoyPlfkvGESIAESIAESIAESIAESsD4BKjLWL0PeAQmQAAmQAAmQAAmQAAn4HAEqMj5X5LxhEiABEiABEiABEiABErA+ASoy1i9D3gEJkAAJkAAJkAAJkAAJ+BwBKjI+V+S8YRIgARIgARIgARIgARKwPgEqMtYvQ94BCZAACZAACZAACZAACfgcASoyPlfkvGESIAESIAESIAESIAESsD4BKjLWL0PeAQmQAAmQAAmQAAmQAAn4HAEqMj5X5LxhEiABEiABEiABEiABErA+ASoy1i9D3gEJkAAJkAAJkAAJkAAJ+BwBKjI+V+S8YRIgARIgARIgARIgARKwPgEqMtYvQ94BCZAACZAACZAACZAACfgcASoyPlfkvGESMCmBKCbNF7NFAiRAAiRAAiRgSgJUZExZLO7LVBR2Ht0Hm1fyKgKsO15VnLwZNxJg3XEjbF4qVAJ8DkNFY6kdVGQsVVzOz2wUPgHOh8oUI0TAcs8ijQARKmee5HwCVqs7Vsuv80uMKZqBAJ9DM5RC5PPAbmzkGVo6BVZkSxef12QeljGrWcei8u3pNc+flW8kqp/16g7bHSs/cd6Tdz6H3lGWbIq9oxwjfBeoyKzMEcbHE51EwIrPYRTVgaSQgKcJWPH9DeWLQgKeJsDn0NMl4JzrU5FxDkfLpgIrOCuzZYvPazIe1d96t4IRGdYd65Wbt+XYknXHgqNI3vbc+Pr9aC8A9oC94jFgMXpFMUbuJqzYEEbujnm2mQhYVpmGEcCCCpiZyp55iRwBKNJWVKYxisS6E7my59mRI4Dnz4p1J3J37Z1nU5HxznIN113pxpAdsnAx48HOI2DlBsUPjSHfos57GJhSuAig7lhtbplxg1RkDBL89AQBPn+eoO6aa7IJdg1XS6WKhhAdMgoJuJuAfvaiufuqzruetixbOP/OI8GU3E0ABigrv7eRdz/WHXc/NryeIoDnzsp1h4UYmAAVmcA8fPaXrthsVHy2/D11437RrT+8jwaR1j1PPUG+eV3DAGDFif72JYZ2hyOa9kT43dUEUGeoQLuasnvTpyLjXt6mvpq/F3QqTQ2YmQtEwFuUZzSM/qpDZvVOZaDC4Q9TE/CWuqNHlVS7QyEBdxFgP8ddpN13HSoy7mNt+ivpDhmVGdOXkzdkEKMYaFCs6t8ftAwwIuNN9xP0/vjbPAS0EuNFnX/cj38M8/BlTryXAJ4zPG8U7yJARca7yjPSd2N0yBjNI9IomUAoBLRvPJQYL3v7GB0yb7uvUIqRmz1AwPaMqXmN3iQwAlCZ8aYSNd+94PnCc0bxPgJRXijxvtviHUWWwPNnIs+eBPxFNi2eTwIGAd0R80Ilxrg/fD57qv4ei6AOUUjAGQT0nBhVb1B/vGUUMyQuus1B3Xke0l5uI4HwEzA8TVB3KN5JgIqMd5arU+4KKq6hzLxgw+IUpr6aiPaFVw2JrzQmqC+2ukNTka8+9k65b4ySo974SpQlGtGc8tgwEUVA1xtVd+hh4t2PAxUZ7y5fp9wdGpbnysqsP2lldgpTX0kEDYjuiKnOmC+6XBl1B6M0NAb4ylPvhPtESPyXdQf1x5tHYUKjhTqj2x3UHRoDQsPE7UEIoK6gzhjtTpDd/OmFBKjIeGGhuuqW0Ji8gFKDP2VxRseMnTNX0bZmulBWEE41Cjph+K4+xcv8+SNSMqgnqDf2n+ycRYSkd56Dzpf+U/VF1yHUH9Qdiq3OGPVHtztUbPhkvCSg6w3anJftDeqNLxrNfPmBoCLjy6XvrHtHo8LOqrNoWjIddMrRoFDCQYD1JhywvPhQo1PO+uN4IbPuOM7Ki49ku+PFhRuOW6MiEw5YPJQESIAESIAESIAESIAESMAcBNRgHIUESIAESIAESIAESIAESIAErEWAioy1you5JQESIAESIAESIAESIAESUASoyPAxIAESIAESIAESIAESIAESsBwBKjKWKzJmmARIgARIgARIgARIgARIgIoMnwESIAESIAESIAESIAESIAHLEaAiY7kiY4ZJgARIgARIgARIgARIgASoyPAZIAESIAESIAESIAESIAESsBwBKjKWKzJmmARIgARIgARIgARIgARIgIoMnwESIAESIAESIAESIAESIAHLEaAiY7kiY4ZJgARIgARIgARIgARIgASoyPAZIAESIAESIAESIAESIAESsBwBKjKWKzJmmARIgARIgARIgARIgARIgIoMnwESIAESIAESIAESIAESIAHLEaAiY7kiY4ZJgARIgARIgARIgARIgASoyPAZIAESIAESIAESIAESIAESsBwBKjKWKzJmmARIgARIgARIgARIgARIgIoMnwESIAESIAESIAESIAESIAHLEaAiY7kiY4ZJgARIgARIgARIgARIgASoyPAZIAESIAESIAESIAESIAESsBwBKjKWKzJmmARIgARIgARIgARIgARIgIoMnwESIAESIAESIAESIAESIAHLEaAiY7kiY4ZJgARIgARIgARIgARIgASoyPAZIAESIAESIAESIAESIAESsBwBKjKWKzJmmARIgARIgARIgARIgARIgIoMnwESIAESIAESIAESIAESIAHLEaAiY7kiY4ZJgARIgARIgARIgARIgASoyPAZIAESIAESIAESIAESIAESsBwBKjKWKzJmmARIgARIgARIgARIgARIgIoMnwESIAESIAESIAESIAESIAHLEfC3XI4dzfDDmyIP1N+LZ46eweMiTCCKiH8MkfjpIpwCTzQBAdSVO5dEnj5UmXlhggwxCzYCUaOJxEsp4hfTtolfLEjg7mWRJ3dU9WL9ckvpRY2u6k0qVW/UJ8XcBO6puvH4rqobz82dT2/MXRQ1phEjgUjspJa8uygvlFgy52Fl+uZpkahPVcH4hXUU9zmTwHP1GD1QHeG4qrOFCkGxFoGHt0XQkMRSL7SoSjGlmI/A/Sci0eOrOpbafHljjsIm8Fy1R7fOqPJT70l/tkthw3Ly3vvoCyQUiZPCyQkzOecQUHXixilVN1Rq/mx7nMM0Aqk8Uf23J6r9T5w1Aid79hTvcy27dTagQlCJce+Thc5vHDXAB4sjGm2KdQg8UyMw91W5xVEdLCox5i232GpU5uk9kYc3zJtH5ixkAlBiYqv6RSUmZD6u3BpbtUuPlaHm0X+uvArTjigBKDGx4dVBJSaiCJ1yXjT1fsI76qYqD4uJdykyz5XF8rnqlPkpDZ/iGQLoDN/52zPX5lUjRuDOvwEvsIidzbPcSSCmemXfv+7OK/JakSVw/6oyrsFdhu1SZFFG+PxYql26dyXCp/NEFxGAJ0A01gsX0Y1Asuo9BW8miyn93qXI3FeWyhjedUsReBI9f8qzR57PA3PgOIHnjx0/lkd6nkAU1djQj9zz5eBoDh6pOTH+3jsd1VEMnj9Ouc5QzEUAc5mjsc9mqkKJod5VKBcLiXc9QZis7KcsLxTPEvDCaVeeBerqq9Mi5mrCTk0fb226bzoVqUsTo9LpUrwOJ67rDZUZh3m540DWDXdQDv81LNaH8y5FJvzFxTNIgARIgARIgARIgARIgAQsSICKjAULjVkmARIgARIgARIgARIgAV8nQEXG158A3j8JkAAJkAAJkAAJkAAJWJAAFRkLFhqzTAIkQAIkQAIkQAIkQAK+ToCKjK8/Abx/EiABEiABEiABEiABErAgASoyFiw0ZtmqBLCWBIUESMCpBO6fcWpyTIwEvJcA2yDvLVvfvTMqMr5b9rxzdxO4tFbkwQV3X5XXIwHvJvDolsiN3d59j7w7EnAGAbZBzqDINExGgKt0maxAmB0nEHh40QmJuCCJqMpucOOASOzLIokKuOACTJIEXEjArPUKt/xULTr5rzIUJMqjFkVO7kIITNogsH3nH/J29mySIEE8YxM/DQJmrStP76s2aC/bIKOcwvn5+fCvpcunzSR27Fiya88ByZolgyRJnNDhVI6fOCNRVT8A51GcRyDKCyXOS87DKd35R60S+8BtmYgSK6vtWvHixZFPGtaQ8WP627Y548s/l67Ilm27pc7HVSOU3LHjp+XkqXNSpVLpCJ0foZPuPRVJ8maETnXKSf+uF8Hq52aUBFlE7ipF69kTxaigWvE7gedzeeOYatg8Y9NYsHi1fPvDbFn3yzSXcdjw63ZJmiSR/C939mDXeDN3OZn6/UgpWjivjPrye+nee4Q+JkP6NFKh3Lvy7ddDgp3j8Q2PVP2Km0kt/hvdvVlB5+z2Ufde09Gr+ccV1UMQuXdJsckokjCvo2e6/rgbJ1X9iuL667zmCvMXrZLvfpzjtLqWMkMRmTdzgpR4p6AcOnxM/r18Vcq9985rcuHB3Q9VvYmfVT0nblg028xtUJzUAfVE1DPp6Tbo5mmRWM7vgmbL+Z7u9+BpixMnltSuWVV+nDw80g+fX5w35N9zOyVZ0sSS9e0yMm50vzD7VmvXb5PUqZJLzrff0Ndu3aGfxIoZU74c1SfSeXFpAg9VHUmY0aWXcGbinum9OPMOPJzW/RuHJVasmHLl6nUpW7mR7pS1al7Xabk6cvS4zJq7LMKKzM7d+2XHrn1hVjanZdZMCUFhMKvETSvy+LayIG9UDatS+OLnMGtOvSJf6MAVKZQnREXG/gafP38uLZrWlu++GSr7D/4pY8f9KGUqNpCNq3+2P8y3v0dTCkPsFOZlEC2OMhQoZebyBpGkxZSyF8u8ebV4ztChM2TLtj1y5uwFcysyRmbd9WnmNihBZuXmfEXkkqonCd7yyjZo97ZFUjB/brl9+47UbtjRKX0ztBFRogQYJU4eUe33a2TO/BWqThS3KTKTJ3z+mjO4OyIEOEcmItRCOCd5siRSoey7cvbc33ovht0bNu0ilT5sKkNHTJQ7d+7p7eWqNJaHDx/p76vWbJamrXraUhv39VRZ/surygEFpHOPYbJj5z4pXaG+4HjIjFlL5L1KDaVJyx6yd99hve3rSTN0RcUPpF/1oxb6OFx7+S8b9Pl79h7Ux/I/ExCIrkZiEqkG5KHqdF3ZojLkfKuUCe4yXFm4f/+BNG7eTTZu2iFVqjeXZq17aUuvkUit+h10HcCz/UmL7rL79wPGLqn4QRO5fkPNlXgpqC+QkWO/kyXL1smIMd/pOnDvnmMjtnnU6M30H0fLjZu3Zeny9TqtP/86JV1UfUTabTr219t87j+zP6b+sZUlURkx/JUCc2mNUmpO+lwRReSGFy5ZLeWrfqKf7TFKgTcEDhtjx0/R2/Hc469F2956d/1POsup0+cFhoKx43+UeQtX6v2HjxyXS/9ekf6Dv9LGvbqNOql69KpuGmnz08MEYikXzETZRO5f8Oo2CK6P1T8oL79uDlC8Bw4ZLzDw4rnsO3CsLgQ8u+ib4ZnGPkPgClajTjv9XHfoPEgbrY19qAcHD/1l/BS4nRl1ZMXKjbrf98uqX2XIF9/o7Thw0nczZeqMhbZzfp69VNcRGMzQhzME/cCfpi/Q7Rf6esjz3bvKLVDJzVu3ddoV3v9EqtdqIxcuqj6EjwsVGSc9ABiRWbN+q7L6qs6pkk1bdknfnu1k1dIpAqVm4ncBVt0HDx7K1t/26GPQeKxcvUlbDLBh+szFkimjsta/lDeyZZKqlcrIm29klgF9OkrePDlkzbqtMmHidBn9RS9p26q+VmauXrshdWu/rysMvo+fOE1yvJVVypYpJqVKFJYC+XPp87NkTm8kzU8zEIBrUPyMyh0ymsjfy3w+EMDz5y90Zwj145fFPwiUiZbtXg3Bo8MEN7EFs76W90qrZ7t8fcHzDtm8dbc8evRYf4dChPr39Okz+bBqWe2PXO39croOwM0gPPJOsfw2halclUbafXTxvElSvGj+8CTDY91NII4aNYJCA0Xm+g53X91S1/ttx15p3b6fbq++nzhMpv28SHe4cBPoTG3eukvWr5wuI4f10AY5HAPZsesPuXP3nnbLLFYkn+AP7VS6tKmUstNHtVuZdPtXplRRSZTQBC60Otf8LxABrfgrdzs/5ZzjxW0QnnH0pyDwcoERuHf3NtKhbSPZtv13GTZykgwZ2Fm6d24hcP/6+5/L+tjK1ZpJ9Q+VErRmprz1RhZB/82QPXsPyS012gOBQnTi5FlZueRHGTOityRW82Y++rCCZMyQVmpUq6jrBY6Dm/+ZsxfxVRvlevUbpa87YewA+XryDJk5Z6ne98+ly9oQUKRQXtmwaoas27BN10XshPtzjBjRZc3yqdrTBm5uvi5UZCL5BMROnFMwVyZF+sK6k2PMZUEliRMntsxd8ItEVx3Vv46d1leC3z06XZCDh45J08Y15dctO7W2jfkwhi8l9mMSGRqDxIkTaIUkZYpkMu6bqfL5gM8k7/9y6GHTKhVLC7R+HIvtaJB+mr5Q+vfuIKlSJleKUTr9CYUmcaKESJZiJgKP/1MWsevKkTej8hVOZ6acuT0vGLbHaCI6Q5CqlcvI8RNn9XcoJZDB/TtJzJgxpGG9aroO4AUflsAIgPqDeoQ6EF5BB+zWbVVGShIlSiArVF1LmCC+NKj7YXiT4vHuJICpn49uqitG8Uq3GWeiHP/NNOnepaWe64JJyGNVR2y8MpZBjhw9IQXy5RI/Pz9V396WI3+e0AYC++unTZNS0qdLLfhEHYMFPH68uNroFjVqFO2uabjj2J/H7yYhgDbooTIIeVkb1KZDfz0SUrB4dd2u9Ozayga8SaMakivnm5IieVLB89+/d3spXPB/2v24ZvWKehR//cbf9HNvvOvbtW6gJ+qHNK0c/TK0W5hmkC/P21qpz/5WFtVmxBd8htT2wOAMYzfcnt/OkU2GDe6i8hJQ73CNd4sX1HUSma5csZScOHVW5x/tjzG61LxJLd0e6h0+/B8VmUgWPubInDi8QVeIFk1q21Lr1W+01Gv8mZw7/7ekTp3cpslXLF9CTd6HP/FFyZwpnZR8t7B2pYHVCyMorxMoO737j7YNYe7cvU/ixlV+4UrKlikui5au0VbouHFjvy4p7vc0gfvK6gN/fky4TPg/T+fGdNeH1enR4wA3zJAyh0YI/s+ulLPnLkq2rBn1JbZtmCuXr1yT9NnetbkkuPLaTDuCBBCZ6fYJpcOo0beUFdSIJ0cDwiIJ67P9aD2UGbRbkDq1qgr8/DESOnzUJO3v7+/vF1Zyet+0H0bpTiHqCtxFnz0LMES89kQe4F4CXtwGoZMPw9faX6bqoBSINAaBjQPBXwxBn2rwsFduYXjWoYyjXjgSXQxeAXD7sq9DRtphfQard5lf1bug50WPHs3mcTBqeE/dx0uTuZh8VLutzeUs6Dm+9Nvfl27WVfeKh71urfelV/9R8vWXA9U8mYsye95yOXtss77k5O9naWUFPzD5DMOLcCmD4oGIL937jJB4ShkJKeJLtGj+tsllOD9N6hTSqH51FYWjCn4GknadBsiMKWO0ixmsBxjiRwXwSWvYk7uB2JjmByZLP1MuUHfOKT/++CKpK5sma1bLyL4DRwXPOSR2rFgClzLI4ydP9KfR4YoeLXqE6gCMDUuWr5Ohg7ro9NC4fTWqr3ZJePe9OlK/zofa2qZ3+tJ/Zq5bD64qF81ravgstxrhpCutI48l2gm4xRiCUVCMsEAwEgpFHvM14cIyd8Z447BAn2hnHj8OqHfYgXYLYWpbN68nNeq2lYVL1kitGj72rjNzPfGBNih/vpy6vxXoQQ3hB/pU5dX85maffBxo7+q1W2yRzwLtCPID9QJeAn8dOyVvvancWe0kmvLGCa3/hXqHuoZ+IOS4qoNGvbNLIsSvLZvVEfxhHvb3P82Vzzo0CfE4X9lIRcZJJQ3NP+ObJaVVs7rapez6jZt6dASh9iYpRSa73QOOYUb4Q65dMVUPRSJQwKKla1V0pBnBcoOKsf/An9oiliN7VunYtrE0atZVNxRwFYN/JxqMlWs2yZMnT7XLCyzZmAwN38o3smbSPs+YM4Ch1PDEPA+WGatsiJFEtcDPzZfbx6qTFUONMNxTIzGIFBM3m/nyaNIcGUrJOOUGgFDJGMGElRdzZSAF8ueUH6fOV7+L6k8M8RsCtzI0SgipHNIQv3Ec4vsjhCxcCuBSM3zUZOnZtbVuXK5dvykjVcCA3j3aqMbnjNxUQQASJoxnnOo7n1GVVdOMdctfORfcVu67yJ82DtDZIKSHEs8t2gJDoKRgnsCHNVupeZXZdKjaLj2H6XYGx+xXxgK4fL5TLGDdK0TzQ/0LKph/MHbcFJ022pkRo7/V6cK4cPHvf7USFPQcr/7NNsgyxduxXWP5oEYr/ezDfR9zmjH/uOS7hXQ/C+0AnnkEoUHfKiTFBJFqm7fpree7PFGGNAR9QgRM9PtgtEa6QdueDm0a6cAZGTOk0dfpM2CM9OvVPkRuuKZxXRwHYzamLsDYVqFciRDP8aWNfgOVeM0NP1ZuJn5P3Xo7CK0HwQOeT03G/0dFa8FEYCgdU6YtkFu3/pMxX/TW/vVYPAySWlkA4LdfuUIp/RsWAWyDVSCoIAb5n3+d1D6bWbNkFLimYeQGEcww5I8JloWUb+e2335Xla+BnmSG66DjhXRz53pLW9NWrNoosFCkSZ0y6CWc//uJUiJiJ3V+uo6mGCuVssaa8O/eqYBx7WSqnGOqychmkQdqjk40z3X8YNHCGi+oQxD7Fz62wVcYlmFEhenaqbmOopQ5U3pBKEu8zCFQaBCdb4NqbIapEZR0yqJsdLhwLKLSYAEzWL+Mc3Ceah60b3T8+HF1Q3H//kMdBSZZssR6nhkmekLglvDgwSPppiZaYl2nz/t/poNo6J3u/u+Zql/RlWuEO9bDsL83jCCasV49/Fe5aJ5XPv6ZRBLnVzmOYp9rz39/oOYfRDNBnpRLDeoROlnGX8oUSZWPfl7dFqH+oI706NLKNnpy+fI1ZSzbqw0Hm9RcTsz5PH/+H5sVGf79cG3OlCGdVmJWr9sixVSnDz7/XXsO1+1Wg7rVpPbHwT0I3F4wUMBjJFaPhxvedWasJ8iT2dqgh2oeWzQXPAnqWS9cMI+eqxUsdVUV387xhpo7nEzvwihIlYqlBGu+wJMGc1zQ5mBUsbZav2/ZL+tlsYp8CVe1/+XKrkZ5cql9AZlGICXMWUG/LFnSJDpS7N4/DuvnHcoL5ijPmf+L/P7HQd2/QzsCDx4EAcBn6ZJFZLEyYsNAMKBPBxXcqXRAdlUeMSUBQZsMwQgODAb47N1/jF6Wo3zZd6R9m4bGIc77fKrqSEzrzKnmgpjOK3qmZBDw9IKYRj7M9vmfCpUdP6fZcqVWej6meurmHpxFByxavDfl3vVDWqkwH0Q35shTC2K68RbDdamb+9ToZgbVIVKdVDOKSRbEjAgahKSdOG6QbZ4Y3Gdq1G0nR/5YHZHkPHuOOxfE9Oydhn51s7VBLloQM3QA3OMQAS6I6RAmHkQCvkfAjEqM75UC79jbCCQK7urkbbfoqftBdMx+g76U1i3qCeakzZm3QkYM6e6p7PC6kSXANiiyBHm+CQmY2wxrQmDMEgmQgPsJYI4MYvkbkWfcnwNekQR8jwDWjoECgzlpbyq3li3rZ9tcQH2PBu+YBEjAjASoyJixVJgnEiCBYATs584E28kNJEACLiGAURn8UUiABEjAjATcMOvNjLfNPJEACZAACZAACZAACZAACViZABUZK5ce804CJEACJEACJEACJEACPkqAioyPFjxvmwRIgARIgARIgARIgASsTMC7FJkXKng4hQRIgAS8mQDfc95curw3VxFAvVELC1JIgAReQ8BibYx3KTLR1GreZlx1+jXPjNftdseCY14HzZM3xMbdk/TDfe3nqrz8AhYPDfe5PMH9BKIypo77oYdwxReq3rBtCgGMBzdFxcKSbH88WALBL/1cKfwWa1+8S5GJlUTkkVq9l+I5Ak9VJYgWz3PX55XDT8A/jjIAPAv/eTzDMwSiuGIpbM/cik9cFe3SQ9Yvj5d11BgezwIzEIRAnOQiD54E2cifHiWAhWPjqnKxkHiXIgPwMRNRmfHUAwjPvsfqL15KT+WA140IgfhpVLnBKuZ9r4OI4DD1OfdVhzhBWlNnkZkLQiAGDDtqBO0ZLc9ByLjvp6436d13PV7JMQL+SrmMGksZ0tB5oHicAHRKGDb1SJnHc+NwBqK8UOLw0VY58N4VZQG7KRJDdcz82TlzebE9V6Ngj9Vj9EK5UCTK7PLL8QIuInDzlBrlV9aY6KrORGW9cRHl8CeLV/QT9aeKRuIpJSaaavgp1iNw+7xSZu4HtEt+ftbLv9VyjHqDdgkKZHylxPjTHdO0RfjfRfV+u6faHlVWavFjipsJPFN9OHgzRYur2hhl2LSYeKciYxTCg+uqA/CQE/wMHq76jKpePDHiqxcQO1iuQuy2dJ8+UEaAW0opVR0AijkIYIJyNGUlQx2jWJvAczWihnbpObRSiksJoN5EV6Nh0VXnjGJ+Ai9QN5QB+ukj9tncWVpo66Hkx07mzqs69Vrercg4FRUTIwESIAESIAESIAESIAESMAsB+o+YpSSYDxIgARIgARIgARIgARIgAYcJUJFxGBUPJAESIAESIAESIAESIAESMAsBKjJmKQnmgwRIgARIgARIgARIgARIwGECVGQcRsUDSYAESIAESIAESIAESIAEzEKAioxZSoL5IAESIAESIAESIAESIAEScJgAFRmHUfFAEiABEiABEiABEiABEiABsxCgImOWkmA+SIAESIAESIAESIAESIAEHCZARcZhVDyQBEiABEiABEiABEiABEjALASoyJilJJgPEiABEiABEiABEiABEiABhwlQkXEYFQ8kARIgARIgARIgARIgARIwCwEqMmYpCeaDBEiABEiABEiABEiABEjAYQJUZBxGxQNJgARIgARIgARIgARIgATMQoCKjFlKgvkgARIgARIgARIgARIgARJwmAAVGYdR8UASIAESIAESIAESIAESIAGzEKAiY5aSYD5IgARIgARIgARIgARIgAQcJkBFxmFUPJAESIAESIAESIAESIAESMAsBKjImKUkmA8SIAESIAESIAESIAESIAGHCVCRcRgVDyQBEiABEiABEiABEiABEjALASoyZikJ5oMESIAESIAESIAESIAESMBhAlRkHEbFA0mABEiABEiABEiABEiABMxCgIqMWUqC+SABEiABEiABEiABEiABEnCYABUZh1HxQBIgARIgARIgARIgARIgAbMQoCJjlpJgPkiABEiABEiABEiABEiABBwmQEXGYVQ8kARIgARIgARIgARIgARIwCwEqMiYpSSYDxIgARIgARIgARIgARIgAYcJUJFxGBUPJAESIAESIAESIAESIAESMAsBf7NkJEL5ePFM5PYlkWePRV68iFASPMnFBKL6icRKpP4SuPhCTD5MArf/EXn6kPUkTEhesDOqsk3FUHUtTmIvuBmL3ML96yIP74g8V+0RxZoEokQRMdqqmPGteQ9myvU91In/VHvz3Ey5Yl6cSUC3NaquxEnizFQjlFaUF0oidBVXETQAADgNSURBVKanT3pwW+T+NZHo8UTwEqKYl8ATdKDVCy1xBvPm0Vtz9uiuyJ0rqnMbR9UTDsB6azEHuq+nj1Sn+qmqbxkDbeYPFxC4cVbEL5r6i+6CxJmk2wk8fqAUGvWeTJjW7Zf2mgtePyPir+oD64TXFGmoN4JBhGdPPN7WWFORQSN947xITKXEUKxBAA+7KJ05QRpr5NdbcnntNOuJt5RleO4Do9VPVSOTKH14zuKx4SFwU7VBUGKiWtuxITy37BPHYuQanfB4KXzidp16kzfOiUSLSaOZU6GaPDGMRD9TxrNEnjNUW9NEC3cyKjEmf7qDZA8N/hP1sFPcR+D232rEMrb7rscrmYdAFOXSiQYGozMU5xOAMQ18qcQ4n62nU/RXHXGMZFPCR+DJ/YDjOfIfPm5WPxoumXDswuiMh8SaisxzWPcpliPgr5QZ+M1S3EMAnVi8ZCi+SQCWUdY315Q9XJvBl+KdBPzUKBuNAOErW9aJ8PHypqOh/HuwrbGmImPRaT3e9NxG6F6iqMYBlkwKCZCA6wlAieUEdNdwxnsMo14U7ySAUQW2VeEr2+dqHixHY8LHzFuORlujpw945oasqch4hhWvSgIkQAIkQAIkQAIkQAIkYBICVGRMUhDMBgmQAAmQAAmQAAmQAAmQgOMEqMg4zopHkgAJkAAJkAAJkAAJkAAJmISA30AlJsmL49m4f1PFKY/h+PEROPLa9Ruye+8fcvb8hUB/l69ek7SpU0nF6rUlWrRokjPHW8FS79Z3oI40nCVzxmD7fHoD1pLBJMposXwag9tu/oHz68mg4aOkY7fesv/gEXm/UvnX3sqBQ0d0PYkdK3JlvnffAbl567YkT5Y02DX3Hzwc4jW2/LZDYqnrxokTOHLbufMX5eSp05I6VcpgaYW04e9/LsmRP49JujSpg+2+cfOm7Pr9D3mm/MMTJ0po2//w4SPF6LAkSphQ5U09854SzCeMEddTV/fe6z6+p+5NrV/GNcy8s4wxPwbtFNdCcbx8sSisE4LLoN91Qr2f0fe6eu26pFH9raCy78AhmbtwiTxX77d0aYMv6bBs5WqZs2CxWhIoqmRIn06f/uDBQ92nS6+OP3XmrBw8fCRQ3w7Xe/T4sSRNkli/0xPEjyfn1Lbb/93R73EjD3i379yzV9KnS6vTM/Jq9BUzZgg75L3RZqD/GD9e4CVEtu/aI5evXH1t27Rtxy6JGzeObt+MfOEzpPPv3L0rU6bPEn8/P0mV8lVI8U1bf5Po0aNLvHhOah/Qv4sR+H7s8+bK7x5sYV15W5FP+9iJkzJo+GidEDokadOkUg94Ev2AzfxxUpgXYCyCMPFwp4UJ4NkeOqC3UmIq6Lv4/Y/9MmrcN4KG4/DurZIlU0bb3UHZP3HytFy6fFkWz5omFcqW1vuWr1oj4yd9L3v3HZQbF47bjg/tS+de/eXXLdvET72I48aJI6sWzVEv8ICIUWWqfKQbm3+vXJEV82dK6RLvCIwQjVq2k/9UA4SGsGzpEvLN2BE6+XETv5PJP06TlCmSq33XZPHsaZItS+bQLi1r1v8qnXr01cefOXdOZnw/Ud4tVkQfj8akfrM2kkk1XIeP/ikjhwyQpg3ryb+Xr0je4mWUYpNI5eW67N26Xr0/Usv7HzeQFavXBrpWp3at5MsvPg+0jT9IgARIwFcJNGrRXnfS48WNq5SI/+T27f9k/YqF+j0LJt37DpI1G36VcmVKySz1bn77rTflp8njbbg+ad1BTp85J2VKvit9Bw+X/Hn/p9+xf1+6pN/BaHPwXp+/eJk+Bx36d4oWFn9/f6lU/j3p3qm91G/aWmb/9K3sP3RY5i1aKuuWLbClj3f4hMk/yObVS6Vh83ZaEUBeDSn1bnHja7BPKDvlP/hYXwvtxMKZU3SbhQM/7d5H5+n+/QdSr9ZHMvHLkcHOR9vWtM2nyqh3S27dvi3tWjaT1s0a6+NgYFy4dIXcuXNXGtSpaTv/g1oNpXaNavJZz34ybGAfKVa4oDx58kRGfvW1rFw4O9g1rLiBikwopVa8SCH5deVivffd8u9L5w5tpPr7lW1HR1GWOHSsYN1Fh6hAvjy2faOHDrR9x5e79+4JLAhGByjQzpc/YD2OEzu2rnTG/gsX/9aWgxyqooZkiTaOC+kTVuJsWTLpzhReBgcPHw12fWzDfeR6O3tISXAbCbyWAEY12jT/RNZt3Bzo2J/nLJDo0aLLqUN7BEaBsu/XlAt/7dfHvJE1izRv3EB+/6NboHNC+oEXd/Y3s8nY4YP17grVasmUGbPUC7yp/sQoyMZfFilF4i+pUrOenDuqRlHPnZcuHdrKe6XelXv378ubeYtKo3q1pXCBfIJR0n2/bZSYMWPIxO9/kl4DhsiCn6eEdGm9DdY2KCKxY8eSWfMWSpfeA2T3pjV6X6MW7eSHr79UDWpJwagNrHkQNJ5dO7aVLurvh2k/S9c+A2XO1O9k+fyf9X78h/sqWqaSdGrbyraNX0iABEjA1wm8UNayiV+OkEL582kU6KCPnTBJJowero1Qv+3cLQd2bLJh+rB2Ixn8xWjp37OrHP3rmCxetlIuHj8gUC4G9u6mDUu2g19+aduiieDvuRpJ90uQUpbMmS5JEicKeph89EFVaftZD4FygTYAAkOc0RfE+TCSoW1xRJq07ih9u3dW7VEt+WP/QalWt7Gc/3OfoL1E3v85cUgwcgQjIBSmqhUDez1MmzlHj6osmzdDXy599rzySf06smjZCvnz2HH5+/jBQOfnypFDkiVNopWdt97Iqo77RSsy33w3RT5t09KRLFviGM6RiUQxoZNSpWZdadmxi5T/8GNbSpU+qqOHPbFh6KgvJXfhktJ/yAjJVbiEfshsB6ovGGaEVRnacpvPuuvjsB+VJZc6D5UY52EoE3Lp38sSM2la/R3/oQOHh9mQVFlzypdfT5ZuqvOEfb0HDpV8xd/T6eYpFmARx7EDh42SImUqStWP60vhUhW1smWkwU8ScJQAFBlYoPz9/dSaWGq45qUsWLJMmjWur3+9mS2rZM2cSbZu32n7XaRggUDHG+cF/cQwf4tPGto2Fy6Q39YwLViyXI+AYCdcPOHyuWP379qoACUGAuNA7pw5bOegYYASA/Hzi/ra5759q2a2BqxwwVfXhvsDhuShxEDg/pA5Ywb9HRa8lk0b6e9Q2FCXg8rnI8ZIt07tlNvDq7oc9Bj+JgESIAFfJ/B29jf1yDo4fPXNtzK4b89ASIb076X6PN/qbUkSJ5b/7tzRhiXjIIy+R1Sg3BRR7/2Va9frJNDGLVm+So9whJUmRnnip8oscOuyFxjGKpYrozfly5NbK09wmz515oxuR7ED3ga1PvpQVq3dYH+q/p4wYQJ5+lS5Pb4UtG9Pnj7RrnjGSJD9+Q8ePtBeDDgcbmwYrYFxb+PmbTYPCSMtK39SkYlE6WVMr1xKlDvNH9s2KKvzKT3qETS5aTPnyvwZP+rRna1rl9tcYozjMIyKzhCsvrD0dunYRluwGzRrKwd3blJ/m/XwX6XqdfQwq3FeaJ8YrsQQ6ZY1y6RE8aIyVWnwKxfN1tfftGqJPg2W5Y2bt8qlk4e1BTtP7pwyfda80JLkdhIIN4HzajTRvgGBby5GLyMrUAqqVCynkzl/4WIgn19cA6OY9oLRSLi/lS7xarj/lzXrpGGLtjJk5JcytH9v+8PD/L5i1VqpXL6sPgZzZjBS2mfQMIHh4oux4/VQP6739NlTbQ00EkMDghEbQ2C8QCPVskmAsmNs5ycJkAAJkEAAAYxMwAXsq2++0518KBHHT57SI/T2jDBij/fuxb//kRTJk8m4kUOlas362r0Y7/7IykcfVLG5BGM0CKP6xlwTzMFp17mHlK5cXf8t/WW1vhw8aODmbO9yhh1QyjZs2qKPuXL1mjJk3xK4RefMkV3Pb9E71H8nT5/RRmvjt/HZrFF9fTy8D4aPGadHlXCN0M7H/CGM9EB+37dfsxv55dcyoFdXGT1uonxU7xNtLDfSt+onFZkIlhwqlX3nCBOBMVoCgbsW/iB1albXfvRff/ujxIwR4Nevd7z8D52qJg3q2jYliB9fa8vQrjGZDAIfz/Tp0sjO3QGjMraDQ/nSuH5t2x5cv2aDpvLtlGmSMEECvR1uQLAmw7qBydvwtYSPP4UEnEUAL/igYj9iE3SfI79HfDlB8ubOpS1kON6Ra8CfeGDv7oEmVWJODBQSzG25aKdghJUHWNIwv2b4oD76sLt378mevfu0iwHm7Px1/IT0+/yLEPOEE+zvfe7CpTbrW1jX5D4SIAES8DUC6DvBnatyjbqCdz5GxY15IGABQ629wMUfAjcvSMc2LWTf9o1SMF9eKafmo2COZWSkZrX3BUYsyMo166XGh1UDJQflAooB/gq+nGIAI9fSudMDHYcfcH9r17mnFChRTs+9zKD6eAiEgzTRpsCjBt49FcuWkRgxAjwH7BPBFAW4in1YpaKewA/3NEjQ8zEHJmbMmNojAfNocD0ohS2aNJTTZ89KYjXSBA+JRbOm6ukH8G6wsgR+Iqx8JybI+7Nnz3Qu0GkxOi6D+/ZQk87ekR79PteKw2/rf9FWAxyIY1Bp8dDZS9SoUbRV134bjkX69kqS/X58NyqyfQcPcwvWbtgkPfoP1sOvOzau1GnADabkO8V0Evg0LAxB0+RvEogIASj2mDtmCCKxRMaNasOmrfL9TzPkj99eDbfD2oR0DQm4Rjrjp/arxvw0+ELbC+bo4K9g/rySu0hJuX/lvP3uYN+RRo36TWTcqKG26DUwOOT9Xy7b3Di4kPXs/7m2wPmryHwYvsewPwTD+ZjsbwjmwxmBD4xt/CQBEiABEgjoF9nPkTGYoO+D9zY68/bvT8z1hZHWMPzieIxSdGjdXKpVrSRv5S+m5ywa6YT3E+0MIp8hAud6NZry06TxtiTQ54KLmKNzZDD32j7ATfb8xZVLckadHoIHGILpAVkyZTR+2j4x1eDHiV9pDhjRz/fOe3p+Krx67M/HnCLDcN2w7seCPwgC1/Tr0UWOKw+ifHly6W3/y/W2nl+jf1j0v+BmU4veiFmzDTcSjK7s2rRasqrJ9+jEGIKKCSUCFlpD4N+J47f+tlMw9AjBJK6z5y7IO8UKa8sywv9hFAUClxWkE5rg+uXfK6UnOOuwgnv+0NE84OaD6xh/mMdAIQFnEShXppRWoJEeOvWHjhzVro5hpQ+3yNNnzwU7BP7Gzdp9qidk2oerLFe6pG5YcALqDdwO4M8MQWSyn+cukHnTf9C/jf8Q/cwQNEJwX8AfBG4DQQUuC+VUoIJGdWvbIrXhGDSk9sfbu7nBB9oIfoDrwcXAXo78+Ze89UY2+026jqOuUkiABEiABEImAIMR5hfay4ChI6Rpo3p6E+ZIrl630bYbIY4xUd9+XoltZzi+YHL/9Nnz5KZyBYN7mCOCuS9BBe2JIQiVHD16NJuBD22YIZgS8EGVCvon2hbDYAejGu7HEBikr1wNMObZnz9t1lzb+caxcL1D3xHKIEI331EjQJD7dkY341irfXJExgUlZoyaYKJXiQof6GhhWE9il1IipkwcF+iKX40YIqUqVZO9+w/oSVmocAgl2PXTtlKoVHn5oHJFHQ8d1mCjEwftu2TFD/XwI2KcG3qMMRJjKDbXb9wURFzDxOdYapjx6F/HpVCBvHoocea8BdKgeVsd2ezPYyekV5dPBZo5xYUEsDZBVO+qcm06dVNuVSf1ZMwGKhTxW8pfeerkCTr8Y7n3P9ahIvf8sU+HbDbIwp/40aNH2q8Z36EU9OzcUVuL0Mk/tGuLcWjA/BZ1TPY335AOXXvp7ViXZe3S+fJJgzo6GhrcxzD5fvigvno/opohX4h6U61OY70NwQDwjLdo31mFYy6phu2j6yhkOAeTI9H4Ya4L5qrBwmYI8gcjAlxA8QdB1BnUKeQZoS3h9rlcuR4gehqkT7fP9AjOuo2btDI3a8pkvd3478LFf4JFIcQ7ACEyx48aZhzGT0cJXD8pksSahpjGrdrrIBEVy73nsFXXUSy+dhxCwO/Y9bt2yUG0KkoIBCzeBqFfdOjoUcmQI5/qG1XQ71dEXe3fs4u+WfSRWqngS0t/WaWfA6wlA1czjNZg3klEpVrVyjroUrdP2wVKAn0uzJHBCJAhWJ4DUWMx/+S/S6cD7UPYZvQDMS959vxF2rUL5yFvlT+qK3U//kidu1e7PhtR25q2/VQHk5n27de67Wne/jO9hhv6d2hLEFktrPONfA3+Yox83q+n/omRoa69B+i50lB6Jn01yjjMkp9RlMvSC8vl/NopkZjx3ZbtgHVkUuuFkoyLYjgT7ljJkibRmzDcCdcZrB1x6MifeqKzsW/nnr3y+PHjUC3S0NJxPgQjJIbA7x5WalRCIyIS9kErxyS2ZEmTausA0jcs0bBe26eB42GlgIIUNPwz0kBaiPThlhDMahK0RIshEjsxsuV7ckSNvKVSneTEmdxz79dPO32BKkS7y583t210Aj669pYguFPBZcsQDMfDrco+tCWeUXtBUACMUGB0EfO5dmxcZduNMMVB52+h8UAgC0NQPzH8b1zjjAq/jIXM7MVwBcM21JeHDx/q9WPsF1ur1ai5oKGyzz/WiglqzbMPh456i/qb6+0ctuvjGrB8Id9vZ38rWICPzdu229w6cSwEnbD1v25xsiKjXu3wG4+fMuAi3vr/+V3qPtW7JeOrd6fLb/UO5kOqkXDDihTBCxYsWV72bA7wvw8rCUSfRHSiUUMGBjsMijvCqaIe+akFCaGcG1ZjdHDqNmml2ws8tzO+/0Yr6khv1boNkiZVKkEkpAmjh9ncJnv0G6xHOjH3AGscodPjiGB9D5xjGBSCnoNw5137DNAjoFhvCS4yEFjYFy9fKVioEO+BLwb309ux1hS2G4JITgj1Dk8FvCfQpj5V7tYIn57x5aKHZ1W976LmRCyc+ZNxWsQ+nz4MaKeix4nY+WY9y5Vt0C0VaMU/eqTvHEYpGK7slYOgiSLYClyX7d/r9segzwNjWUY1D9J4NjDy/seBg8Ge55D6TFBEcrwVOA94byNf9kthIK/2IyTIAyJrIuAL2j6sTxNUEE0W64thgj68ZAyBYgLPhaD3hH4g5stgTicE3jho8xAO2lB2sD2087EPgj4rIngagjXWYDiE25yRtrEvQp94B8dPFaFTI3sSFZnIEuT5jhNwlyJzK+w5D45n2MlH/qOGmp8+EkmQViRDEScnHkJyLlBkEBziuFrksuQ7RZ0edQuTOxEhBu4D7hZYx75Tc3CMtaPceX24DZT7oKb8/MOkQA1N5PPgZEXGrPXqv0vKP+KGcq5XDWma/KoxfTUfKfIMQ0nBjYoMJunCfQYKx+rFc4Nl6LufpmtLLjp+iJ4Hd8Y1SwKiUGZ8O58M6ddbj5CiA5UmdUqtsEBJgKUagvlfcDeBAoLQ4cNGfyX7t/+qRzlhJb527liwawbdgDUvhowYq41r9uslGcdhf7c+g3T9gsIFF2sYIxBRqfyHteT4vp0BHbNSFbQyD8McFpuFSw8mW9sLFrstW6qkXosDUQyxtAHWhoKYRpExa105s1Up32pyfKKMzm+DnKTI6ILkf9Yj4EFFxrv8XKxX9MyxKwhcUqNbL5Ql2oySOo9aPOiMmvi0QjUkxSw3OtVYLb6FBSfDspZFFPuAXt085l4DS7AnlBiwgmUNIdotMU8NyrgZJUa8gA7a6U3KzUzNP0pX0Iy5DHeeMNqJCb4IGoORl5DEPow3IjUt+2W1PgwjfFgQD6t8Q+BeaYihxOB3oQL59GgovmNlcESJgsDai/WfQprnpQ94+R/mdnXpNUAvPjhrXoB7pf1+fP9x2ky9qK0Rkt0YUX327LkeFTIWG0RUQmM+wPUbNwJZv400t+/cYwub/n6lCjoEelBrs3Gsxz7N2gbFUJ4sCZVl/9ZFy7ZBHitTXti0BKjImLZomLFIEUiePVKnu/RkuJbBgnxsjUhKNS8J7mYWEQzTG0P1zs5yYdWh8pQgApmnBEqhJZQYAILCgBFFswryd1u5Ff6l3BMzlxSJHhA5zqzZfV2+MC+sd9dOehTFiEoZ0jkIkrFt+y6Z8O0P2h0Mx+zc87te8wJpYJ5X/do19HIAxvlwfcGaFovVat9wz4LAvdM+WlIWpchc/FuNeIUhCJWLRQkx1+x5KAYkuHM2qPOxDqmLkLPdP+ug3Vng0pw0qVr0Vs1dq1qpvHb9+Xb8aH21mzdv20KaQwlD6Fq4a8NFDuu2wZ0Urqf37t3XQULs3WbCyK77dpm5DUr+pgqn+I9qg1Q9SanefRZqg9xXgLySVQgwaplVSor59C4CmCeExuO28is+oSaRW3CqmncVCO/GKwjEUJNu0YGMFkvkqJqTduX1blFmuW+4WcFfH3/wd8eiqejM268LFlpeT585p13BMG8AUY4g/6lAMHMXLtHzHzt3aC2TfpiqfxtpQJHZd/BQwKJ8ai4m5MmTp3r9CeMYrHFx/8F942ewzyUrVumomR9X/yDYPvsNGFn6YdrP0qltKz2Hs2zVGnoeGRSRmMr/H/M3ETI2p5pTZsiIz/vptTgwUorAOa0/7ap39e3xmbTv0lMvQAglbc+W188xMtLkpx2BeMoFM7kypN1QkSLZBtmB4VerEeCIjNVKjPn1HgL+MUSSKjcYWMYOKp/29GreTKIM3nN/vBMS8BQBjBrFTChy7S8VHUWNKGQu5amcOHxdRJXEPBZI6lQppc1n3XTwGETOu3nrlo5QhChniF4UVMqWLqGi8ZWQ7p3aB0R0UgvmJUgQXxrXq22by4YFmxF5D9HxII3q1dJ/WI0ckZEO7tysAwYgxKwhmJQc1hpjiA6IgBnII1zB/rn0r45UOGXSOCMJ/Rk3Thz5fsJY23pKmKNz8MgRNRq0UgfXMPKCFcsx+R9rXdgHrUGEQETqhMDlDXNizl+8qEcyC5eqKJPHWTvqkr4xT/wHxT+FUvxvK+WXbZAnSoDXdAIBKjJOgMgkSCDCBB7eVoqMsoYmyUIlJsIQeSIJBCGAEc4H1wM2plTz0iwgmNRuP7H97JE/bLnGosajxn1tU2KOnTipFYz48eLp0OdwuYLEUQoD5Nat2zpiEhZpNQRzT4xF8jDiY0T5g5JxRUUCgxQplF9HM6tcoayOxrR52w75dvwYvQ+RkhA21l4unTxs+4kJ/Rj1MZQYRFtCxEKkj+hNWEkc4WUhUKqQF0TltJ+7U0atuWSEycUoDu4PghDvxvwa/IYbG9wxcT4ib3rSNRT5sbSgDbqnyp9tkKWL0ZczT0XGgdJHCMg3s2XRvrkOHO72QxACFi/0SuXfc/u1ecFIEPhPuZXdU52tTCpsbLxUkUiIp/oCgVNnzsrPc+brW0VgBEooBB7dFbmpAmrETSGS1TvfiWWqfCTNGtWXLh3bSNEylfToRbq0qQWKBxZZhgKBvxTJk0nLDl2kaOECOkTzkjnTdVjY92s1ELiDxY8XV61nsdi28neD2jUl/7tl9ZwczJ/BonwIN6uVheJl9Bpnn6iAH47IO+WqSqd2rfTaF4P79lRrOjWSR48fy24V2hbrTSFSGhQbRCGDkuXv76+jrmERW7jVNWnTUXCtvy9dkgVLlsusKd/qyw4fM063dwhTu2jZCh1S2pH88JgQCLANCgEKN1mNAOfIOFBiE7+fohYO2ubAkZ45BJaw0CLaeCZHJrgqhsqD/uGlHXRb0N84xpHjgp7n6G+gQQjmK0cCIqvlUhZKDysxfx47LllzF5I4KTJIwxZtdZx6owThdpI+e15J80Zu24KQ2AdrKVw94qfKLE1adzQO15OFEc41SrzkKqzqx3Li1GnbvtC+YG5AzkLv6nOwPgTi29sL5gwY7jXYjv1Y6BXXgCsKQq4agvxie6xk6WTm3AXG5lA/MU8gWca39DkDho4MdBwWNENahVRIWKyKbMgiNTka28EL4WodEaxBAB72KzvjvM5qzYuEabIK1hOBldoQrNeDa4ALrgfBJGwoMCvXbJBnav0Mj8nr6ohRf4zPkOpGWPtCOv512x7+F4DjjnIju3FS+WblVevKqKiAXiIF8+eRMcMG2+5m5Of9lRJQXa85gXWX3nwjq55mh47/plVLbMdBccFxFy7+rSPjYfQDCx+vWzZfKSsJ9DlYK8ZYnwYT6H/fsk6P1kAJweK2EIyqjBwyQK5du2FLO+iXooUKyheDAtaAwb6xwz8XrP0Cwbo2v29dp59bPMeI0gcp/14pvbjtPbW6OOrG+uULpbQalYFRbuncGWqEKbZ67jOpxWYX61DMOOfTNi31aAxGaHC8/QK22G8aCemZdeS5xzGOHBdS+o5sAyCTtUH2ZZYlV0HpNWCI/SbJlDO/rS3BOkd4N9r/zV+8zHY8DM8I3Y22IXeRkjpghG2n+oLFj3Huhk1b9eZZ8xYGSstIN1fhEnp/nU9aCtZAwqho5pwF7JPS7WCMJGn1Z72mrYOlg/VowhLMYUPbijDpRn7COh774GaKRThD6vNhGQG0W/YydNSXejFpMDl3XvWLXkrzdp/ZohUa26z66W/VjLsz3+uWvb5D5M78BL0W/IkpdgTiJLX7YaKvd5UL2d2rqpFSLxNEikn+amKrJ3OJTvOapfN0Rxkv7X6ff6EWyBuuFRpMqp3907d6obu6TVpK8e2FtEsIQsIWK1xQYD2FxXfyj9OkdbPGsnr9RhUdqaZekA5KBRaZNNZ4CO0esY7E2OGDdacHDQZ87Q1XGViC23Tqri2wjx8/0Un0HTxcRg0dqBeBxUu6WdtOsmHFQt3QoQHE9R6oBS8btWinOzwF8oXsWoRFK6F0zfxxsmTKmF7fx08/z5YmDeoKFveD7/+/p45ohQgK1s5fV+t1L8Dn0K4tmk/jlu31NdA5DE2wqOavW36TdRs368nUxnFYA+O3Hbvl8O4tWlnB/Ie1S+fr7+jAvVAuh1DyCpWsIAXVPaCT6XHBJHqzylU1vyRabBVnWBkHoljDRofFVqGoZ8uSWT9voaFNlDChHiUx9qOOGYK6EnTFcWMfPqEY4M9e4JbVt3tn+02271iA+dO2LW2/8QUhlrdoN7PRgbbb/4CrmuGuhu2Y92IvGEHBKFJQQbSxkCKOIYphSJEMEaq5bYsmQZNRkcxO6oUCo0RykdJgCUdkA9ugiFCznfOzMkK1bNoo1IUaMRdshFLmgwoMS0NGjtXvUcMV8etvA5Rm41iM7mGe2IIly+S9Uu9KvVo19B/253vnPRk+sK9UKFvaONz2iWPhkgmXSYTrh6xYtVbVreI2F8ivx3wh7Vo2tZ0T1hcYrrr2GShLZk/TI56NW3WQv/Zu1+H4wzpv3EQ1v0wtbonF1+0FChyiA/62c7dtM5QeGOHRPmKU8/upM3SEweMnT+k5dPYLQttOsuAXKjIOFBo6LoiqAusRYvMPHDZSPyzwZ/5p8nhtrTKSgQbeqXsf/UDBUoQJjvhEh6xDl15So1pVqd+0jSROnFBZxRboGP3oCNb4sKoaIp+ofX8RShOTKGEBwPD72C8GS5UK5dRChKekVceuxqV0tJiVC2cLRmSwmjkas9//2K9XZYYFDRFdkO85U7/Tk0dxIjp9Bw4f0aso31R+1DgupAXMbBex4pf0wVfTNcVtHF2uwgLdFcleNSCqkikyJTJ32ve2nLT4pKFefA8bZs5dKB9UrmBbnbhy+bIyZ8ES7YayZPkqufW3snwrGdi7mzRr10krMvYdFfjFw68+LMHkYzzjhuU2aAcFCgW2jfgywDKMtIzwrPiOxTPHjJ+Er4IISnCXMfz4sQr47AWLJTRFBqMksFCjXkMQ5nbkVxO0IjNv8VLZvWmtdqvp3KGNDmuLeolr1KlZzebX3/yTBorJYm3l1omE8B844A8LDb6wi073w9SZ0qvrp9oFCOt6fPXNt9pihkVBDUGoWazzgZWsPa7IYP0J/JlNzu9Sy1qfCIjAlCqn2XIXZn4mjxutVrp/EOYxZth5W0VA+27CmDAn/pshn3ClG9Snh+ezwjYowmUARRRGsc969BWMKIZHYGBbrBQDQ4nBuca6SEY6q9Zt0IEtchQoLpO+GmVsfu2nn5+fdrVcrpQXQ5HBdyzaGpZgtLF2oxby9dgvAi1dAGUNbUnB/Gr0WAkUIoy+G+s+hZYm2lu8M4KGY0c+YBDACJMhmPuWNk0q/VMb5tQUBAi8D75R+fEWsYbZysO0Dx05qi3CyEb3foOkm7IGwFqKDhYUAXuBha13t056P4b5oUxAsH3OwsWyZ+9++efkIalU7j3tmoPKgbTgHjNzXsDIz5MnT6RB7Y/19m/GjlCW5fY6DXT4EIoSf/gOBSlmzBjabeCvY6ohV3Lr9n8y6qtvtEUb6cK6NmrcN3ofHvCD6l7gOoB00TGbPfVbvY//uYFAwnQi2cqZSokJeteYb2UoAnALy5zxVRS1LJkyamX6nHpW0WEwJGuWTHJcretgCF6e6PBXqVFXoEyEJTt379XKNixpCL8KS5MhGzdvVSMSx6VD6+ZqJONJICXAOOaP/Qdt+U2aJHGgoXKMapxRz3hoguMvqnUzDIkbN446/rz+mSRxYh2BybZP1XPsg8UZ89EMwRowMCJERGCYwIKDhmiOaltQOfLnX7Z7DLqPv18SeKO8CmduLSUGOceIA6Jzmd0ymilDetMrMRhlAku4sVFCIWCBNgjGHhi2EMEPhuOgEjVqVNm+a48MGj5K/82YPV8fgtFrhA8vWqhA0FNsvzEqUbxIIf0eR6c/pPRtB4fwpfr7VfQoDHbBvRfp1az2gT4SChh+G/mCRwLk7t17au7adrmq2kV7QZsJt0lDjPbV+O2MT8xvM1yW8QkFb+++A5JdzVH7U/UZ4WkALwSrC0dkHChBPKDGcDVcADDhtkjB/MGG65EUKglcVvBAo0OHzgoElROuMYP6dNe/q1QsJ+g0Nm1YT/+GtdvoDOKFjD+sqIzhcgzrIy08lBC4qmz5bYcc2PGr/m3/H7T0bKpjaYTYrKKiz0DzhyCNPLkCGnuE1IwaNYpap+BWMGXMPj1+dyKB1CG7ODnxCpFKCvNAMB/st/UBczIePXoUeE2J2LF1JCM838ZK3LggOvOwOhmC52y7Gt7GtmpVw7ZWYegbL/n06dIoa9LbgknI40YOlXJlSuoVzcNy67x//4E2LPw48St9aYxkwLWset3GutOFyfGxYsY0shXsM3/e/4lfVD8pXraKFCtSULAWh2HlgntAhWq11OhTLTlx8rSuv6jDGPGBaxsmJydNkkROnTljiwQV7AKv2QC+iL5kCNbssOeI7X0GDdMuOvYWRuN4fr4kYFbrNwuIBMxGwORtkIEL79rxo4Zpz5QTB3ZJVOUqavTBXh0T8A3HQtAe2L9PW3/aTb6dMk3vQ2hxLL46d9ES+VCFJod8ULmiXlcJYcsdlYplywjciW/dvq2DZiBNe3fKF6L+BWTHZniD0e/Ov2eCXeLRY7SvMWzbY8eKLZcuv5onadsRiS9wScXoUd0mrXRfctGsqdKxa289GlO7cQvZvmGlDpcOgyWChFhVqMg4UHKoKEZlgRsOfDDzqggucEmZOHZkoE4d/OA79+qnXcGyZM6oFhML2W0gerToqtP08olXeYgePZquHMgOLAt48GBdKqSGHeOoDuSDBw91TvH5ifKlxAMZPXp0vS2s/2KoxcbQYYKgozdh8g96stu5Cxd0B8zj7iphZZ773EoAL7ZhA/vYLK8pkie3PZPISMCaEsm1VQcL2RkCxQXrXhgCdy1MDO7ZpaNk+18R2bVpdaCRB+M4fOL5hIum4ZLWtWNbNZdkk7YawfUREyghuAbms0BpMYb1sc4GFCWsKwGBDz7mrmAEAxbuHbt+16ub652h/Ld59VJ9DJQxjI5iThAEBoZ8/8ut779wgfxSstKH6h5TaL/kI3u26TqKqFDGqFEoyYe5GcoJ5gPBEgeB/7X9mh14l8Dv+ejv2/R+/kcCJEACvkIAIcC//u5HHdLbvq8DYxPmZ8LFyl7gffK3GmGHoQ0KAtYWwh/mvUAwqr9o6S8ybeZcadC8rd6GeSY4Bu9+RwQGPBjZMOdxz959qv2pZDsNfUQYpB2dI5NSta/B1mxKkcKWnrO+QCFEnzJj+v+3dzdAVlZ1HMeP7C5sBrtkOGMl4Mv4RlnGpGPTVELpDA0q0oswDGCYraJEvAwwJLGIO5gwFo6T1qijm9pEOb2JuTMkzdBgIFKkjuVU4iRITjkiQSss2P93lnO9LIu7dznPufe5+z0zsC/33nOe53P3uc/zP+d/zjPCrd/we3/dqiXONe1AZfy4y/wIV54DmQGxsPpTPZok+ZetG32qiSbsFhelkumGZbfd0hnMhB7e4uf09P3i5ha3cM4s3zOtSZ0aSlWkr6LUtuu+OrXbyZE91XvA0ts+Muo8P0dm7959PkWtp9fweP8Q0CiGRigmfemqwg4r7UWpX6Fs3vJHO4Fc5IMW9Y6FFKtNW57xJxY9T6OHoegkoYt/jSoeqyjo2bJ1W+Hh0GEwdfKXbRL+3bZK13z/T3XNn31jIQVHc2de2fGqW76kM/AIFWjiszoANHKqpVm7TnIOzwtfdcLT87Xvyk8e+9lPh4d8OpceUxClu6VrvoqKRkb1e6WFKYWupzYKFXb5RnNfNj3duaqNUk+fff4F9zEblVJ5avMWd831syzf+wH/M/8hgAAC/U1Ai85obqE6ensq+lzWKMvqu3/Y7VPbfrvej8oo5T78U2dSqellE68Y7zvb1Ik10eY297X4z/+iVc02W2CkzIAsis5dOtepI1vp3kePbr3TqZ5F+1nXyYhML4T1puufhi4/f/kXfc6+Lqy6ziFQVbqQUnCji7wf3N/q6mp7PgC7bsLJw4b5pfh0kN3X+ogfDbIt8AsM3PvgQxbkfMPnYep1M6+b0fXlx/xZF2MaugwrwWjpWfVmFw/HHvPFPFC1ApeMm+CHyTXhXPm9KtdOm+KXQF28rMUmwN/le7N27trle6P0+DybAK+lmjXZXiuHabUWlYvHjHOaAP/RD9ukw58+6he5+MynPum/Dj/nAj+krVViQrl64gTXcvt3Xesja1zHwQ6nO34/9rOH/RwwzQMLpba2xuc+a+QkpAzMs9GbsL06gemYnDl3gZt70w3umT9tc3ssN1mpYCpaavKVnTvdEz//SajS99xdOWmq035rWdlHf/mYe+rJx/3jmgzZ2DDEp7stbflOYf/UkzVn4RI356YmH2yooyKkKshj9+497ldrflRoQ99o1RyNvKhHcJXNVzv7rDO9rxZW0L01NPyvBTuabJUenWza1q13EyZPc5eNHeMXElAdZ5x2WuFeH/qZggACCFS7gEarNSF+1ervF7Ji1LGr9Prw2S+DS8de4jvTdDPWMV+Y4K+/NMKw7dnnfIezrnG0RHPxDWf1OmWpaH5md6uU6fHuyvhxl7pFS5f7lDLNHQtF14iaUqDMhVA0f0bXhFq2WXObw8R+Pa4FnLRwlPZNi0G120qbGmlS0XLMzYsX+Psozbhhttv12mtOCztpMSctkKM5QnKQgc7BykDQ98piUNaOvtdNYnVeDEWL90yzVGmNPp1v5+eFS5b7h7Ty2vQpV4en5fJrTbOV3G35Puv1rX0ntzDF9qvnWDccG3XeOX4FI80nuOXmhRZBX3RE85ojs/aJdXZRdtCtWPYtm38y2EfZCkTq6moLeYj6oz/pfUOPWAN/5PDhvidZ6WRbt/3Zz69ptvtGKEVt9AXn+xx+DQ8WFy3LqknK2jbNq7Fmjqr35PcP86sqKRBrs+VxT7B80+02YfvXj7e5O+66x19AFdeZ2fdvH3KuxmLnSl7CNbOdL0PF/+v5ONHfxI5Xd/k5X/qbDEULSTTYhbzuQfGkrbevuRtK66q3VDAVzRHTXbeV+nTbspvthnudH8AKUjSnRCeNC0d/3FY6usM/T6kBOmY0KqjAJpS6ujo/sVPLNuukc+fKFd1O1tXxo94q1aO7fOsDvzjdQDes1QRG3S9Dc9hOt5zflS1LC9s7xG78pxEXrYYTim7Apzk06qVSALH69lsL89BUlzoinrM0tVlNX7PVajpPCAqWXnr5Zb8yzFkWaOl+HoMOp3jK4xdrf+O+biOmxUUrGe6zk4tGcbS/ugmhfNWDqPTU1h+v8SNBWlJU5W9/f8mnARSnmQ1tbChM+L/3gYfctdOn+BNZcTvdfm/pDm7Q4G4f4pfHIbB/r73YjpeiY+Y4auOllSZwqKPzPFXTc/p2pW162banfY9zNucwRrn4wk84zRlU0eR9fdZrVa/3HP6dPruLyxmnj/Qrseo110yZ7LMAtLKmRua/vWiez0TZbouyKONAnWGhjBxxqr9/kc5noWiVS12bFZdR555dyAaot3OGFpK5yoKg4s42Pb/rdul1WtpfI+w6N+o8FIquB7U9a9vW+RTre+5c5Qba+UFF5zhlByj1P5y7mmZM96lzL9r5VXNaQhA12gIWnat/t2GjncfqC9ekp1ia2rl2f6lQ7mt92C2wTB8VOekcp/uYfc7mCPW08lqo412/6vpu0JB3fUpWD55gqRz5G1P6t02gr2/IyqRq61WvtO6krPXQVZQyo56C//5ru/858/+sx93V2YXwiSdl3hQNmMB//lG2D5au/gqYNKflmzObfE9R18ez/lkpYBs2/sFuKrgss6YUvGkVtRUW2GVRtDCCRlFvnLvIPf/0hl40YR/tNmLkGk7pxXN5SkkCezQpl0CmJLM8PbmjvfM8NfDIVUnztAvJt/WNHXYlT+AX212dhRs3bS7ctDZ2/dHqU/Df8IFo1ZVS0ZFhbSmv5Lm5E9CyutfPnu+DGQ1LanTme9YLTUEga4EX/vqimzrpK2UJYrRvmqeTZRCjNrQMc1ZBjOp/3VYYVK9bSJfT7ygIIIAAAtUroJVvV97aXL07GGHPGJGJgJinKjSvRyt7KI1IE5y73gcn031hRCZT3qMqr6ARmaO2jV8kEGBEJjNkRmQyo62IihmRKf1tYESmdLNqegUjMtX0blb2vihnVP/KUyzNRekYFAQQyF5AWcPM4cjGWa7KCXdx5gRks5HU2ncBpQ0O6PvL++MrObX3x3e9c5/1WVjG4yWfR+oAMuJyecR07Le5TeWZDJZLr+Pd6AGlr5h3vE3y+goSUK9ymSZfVpBCNpsiV32eUapToMPuvcaiNKW9tzomDnR/37zSKuLZuRPQ8VLGc00+A5n32mRxv2pM7t7u/rvB6sFUxE4Qmu5vYPAw596ylWQo/VNAE/0Hntg/9z3rvdZF7qGDWbdC/eUQeNveVyatly6vBZiUXkTpfwL6LCzjuSafgYwivxpb/YroPx8HjP7I29+0daFH5GN7q2UrdbGlpXcJ+qvlHe3lflhK2Vt2vA09tZfP52l9EpCvPtcO36y4T3XwosoS0IX4fhtVGDq8srYrL1vT+EE7Jug8y8vbFWU79Rmo972MJZ+T/QOY7ieje2X4eRckaAaWivmqt0S9wropaKOd9MnXL89b077bub2vW9t2gevy2XdRHrictarjTbnKGvVs/FC0ezrkTCHt5moe0hv/tM+5A/b5ZvNldIhR8ingR2LqLYixY4fSd4GDdiy8ubNzxFJZGBwTfbes1FcWn2t0vOizr4wl34FMMRzD/MUalfF9SCerjK1hKyTAcVLdfweRbkhX3UgZ7R3HVkawCarlXJUNMsdENq6VUGsFnWuqJ5CphDeWbUAAAQQQQAABBBBAAIEkAuSZJGGmEQQQQAABBBBAAAEEEIgpQCATU5O6EEAAAQQQQAABBBBAIIkAgUwSZhpBAAEEEEAAAQQQQACBmAIEMjE1qQsBBBBAAAEEEEAAAQSSCBDIJGGmEQQQQAABBBBAAAEEEIgpQCATU5O6EEAAAQQQQAABBBBAIIkAgUwSZhpBAAEEEEAAAQQQQACBmAIEMjE1qQsBBBBAAAEEEEAAAQSSCBDIJGGmEQQQQAABBBBAAAEEEIgpQCATU5O6EEAAAQQQQAABBBBAIIkAgUwSZhpBAAEEEEAAAQQQQACBmAIEMjE1qQsBBBBAAAEEEEAAAQSSCBDIJGGmEQQQQAABBBBAAAEEEIgpQCATU5O6EEAAAQQQQAABBBBAIIkAgUwSZhpBAAEEEEAAAQQQQACBmAIEMjE1qQsBBBBAAAEEEEAAAQSSCBDIJGGmEQQQQAABBBBAAAEEEIgpQCATU5O6EEAAAQQQQAABBBBAIIkAgUwSZhpBAAEEEEAAAQQQQACBmAIEMjE1qQsBBBBAAAEEEEAAAQSSCBDIJGGmEQQQQAABBBBAAAEEEIgpQCATU5O6EEAAAQQQQAABBBBAIIkAgUwSZhpBAAEEEEAAAQQQQACBmAIEMjE1qQsBBBBAAAEEEEAAAQSSCBDIJGGmEQQQQAABBBBAAAEEEIgpQCATU5O6EEAAAQQQQAABBBBAIIkAgUwSZhpBAAEEEEAAAQQQQACBmAIEMjE1qQsBBBBAAAEEEEAAAQSSCBDIJGGmEQQQQAABBBBAAAEEEIgpQCATU5O6EEAAAQQQQAABBBBAIIkAgUwSZhpBAAEEEEAAAQQQQACBmAIEMjE1qQsBBBBAAAEEEEAAAQSSCBDIJGGmEQQQQAABBBBAAAEEEIgpQCATU5O6EEAAAQQQQAABBBBAIIkAgUwSZhpBAAEEEEAAAQQQQACBmAIEMjE1qQsBBBBAAAEEEEAAAQSSCBDIJGGmEQQQQAABBBBAAAEEEIgpQCATU5O6EEAAAQQQQAABBBBAIIkAgUwSZhpBAAEEEEAAAQQQQACBmAIEMjE1qQsBBBBAAAEEEEAAAQSSCBDIJGGmEQQQQAABBBBAAAEEEIgpQCATU5O6EEAAAQQQQAABBBBAIIkAgUwSZhpBAAEEEEAAAQQQQACBmAIEMjE1qQsBBBBAAAEEEEAAAQSSCBDIJGGmEQQQQAABBBBAAAEEEIgpQCATU5O6EEAAAQQQQAABBBBAIIkAgUwSZhpBAAEEEEAAAQQQQACBmAIEMjE1qQsBBBBAAAEEEEAAAQSSCBDIJGGmEQQQQAABBBBAAAEEEIgpQCATU5O6EEAAAQQQQAABBBBAIIkAgUwSZhpBAAEEEEAAAQQQQACBmAIEMjE1qQsBBBBAAAEEEEAAAQSSCPwf94MFnpFFwboAAAAASUVORK5CYII=)"
      ],
      "metadata": {
        "id": "PiAMRMgabIXJ"
      }
    },
    {
      "cell_type": "code",
      "source": [
        "from transformers import TFAutoModel\n",
        "\n",
        "checkpoint = \"distilbert-base-uncased-finetuned-sst-2-english\"\n",
        "model = TFAutoModel.from_pretrained(checkpoint)"
      ],
      "metadata": {
        "colab": {
          "base_uri": "https://localhost:8080/"
        },
        "id": "f_UwuSXdbE82",
        "outputId": "32298301-d4dd-4077-dc63-4a1e68cc3b4f"
      },
      "execution_count": 5,
      "outputs": [
        {
          "output_type": "stream",
          "name": "stderr",
          "text": [
            "Some weights of the PyTorch model were not used when initializing the TF 2.0 model TFDistilBertModel: ['pre_classifier.bias', 'classifier.weight', 'pre_classifier.weight', 'classifier.bias']\n",
            "- This IS expected if you are initializing TFDistilBertModel from a PyTorch model trained on another task or with another architecture (e.g. initializing a TFBertForSequenceClassification model from a BertForPreTraining model).\n",
            "- This IS NOT expected if you are initializing TFDistilBertModel from a PyTorch model that you expect to be exactly identical (e.g. initializing a TFBertForSequenceClassification model from a BertForSequenceClassification model).\n",
            "All the weights of TFDistilBertModel were initialized from the PyTorch model.\n",
            "If your task is similar to the task the model of the checkpoint was trained on, you can already use TFDistilBertModel for predictions without further training.\n"
          ]
        }
      ]
    },
    {
      "cell_type": "code",
      "source": [
        "outputs = model(**inputs)\n",
        "print(outputs.last_hidden_state.shape)\n",
        "\n",
        "#[ Batch size ( no. of sequences processed),\n",
        "# sequence_length (length of numerical representation of sequence ),\n",
        "# hidden_size (vector dimension of each model input tensor) ]"
      ],
      "metadata": {
        "colab": {
          "base_uri": "https://localhost:8080/"
        },
        "id": "ZV_q8_4mbHR3",
        "outputId": "844da388-b374-4c8a-a26a-511fb2269d60"
      },
      "execution_count": 6,
      "outputs": [
        {
          "output_type": "stream",
          "name": "stdout",
          "text": [
            "(2, 16, 768)\n"
          ]
        }
      ]
    },
    {
      "cell_type": "code",
      "source": [
        "from transformers import TFAutoModelForSequenceClassification\n",
        "\n",
        "checkpoint = \"distilbert-base-uncased-finetuned-sst-2-english\"\n",
        "model = TFAutoModelForSequenceClassification.from_pretrained(checkpoint)\n",
        "outputs = model(inputs)\n"
      ],
      "metadata": {
        "colab": {
          "base_uri": "https://localhost:8080/"
        },
        "id": "nrHrttKNenbS",
        "outputId": "3b2ea5f3-f7e8-4153-f208-335e75545113"
      },
      "execution_count": 7,
      "outputs": [
        {
          "output_type": "stream",
          "name": "stderr",
          "text": [
            "All PyTorch model weights were used when initializing TFDistilBertForSequenceClassification.\n",
            "\n",
            "All the weights of TFDistilBertForSequenceClassification were initialized from the PyTorch model.\n",
            "If your task is similar to the task the model of the checkpoint was trained on, you can already use TFDistilBertForSequenceClassification for predictions without further training.\n"
          ]
        }
      ]
    },
    {
      "cell_type": "code",
      "source": [
        "print(outputs.logits.shape)"
      ],
      "metadata": {
        "colab": {
          "base_uri": "https://localhost:8080/"
        },
        "id": "wAHd8v2NexU6",
        "outputId": "17ac888d-fb13-46fa-b05a-11ef3be50813"
      },
      "execution_count": 8,
      "outputs": [
        {
          "output_type": "stream",
          "name": "stdout",
          "text": [
            "(2, 2)\n"
          ]
        }
      ]
    },
    {
      "cell_type": "code",
      "source": [
        "print(outputs.logits)"
      ],
      "metadata": {
        "colab": {
          "base_uri": "https://localhost:8080/"
        },
        "id": "Ae9B6Pj0e1Fm",
        "outputId": "13639527-42d2-4036-eb5b-1476d5682785"
      },
      "execution_count": 9,
      "outputs": [
        {
          "output_type": "stream",
          "name": "stdout",
          "text": [
            "tf.Tensor(\n",
            "[[-1.5606974  1.6122824]\n",
            " [ 4.169232  -3.3464477]], shape=(2, 2), dtype=float32)\n"
          ]
        }
      ]
    },
    {
      "cell_type": "markdown",
      "source": [
        "### Postprocessing the output\n",
        "\n",
        "logits (raw unnormalized scores outputted by last layer of the model)  are converted to probabilities using softmax layer"
      ],
      "metadata": {
        "id": "B_hSGDR9g15t"
      }
    },
    {
      "cell_type": "code",
      "source": [
        "import tensorflow as tf\n",
        "\n",
        "predictions = tf.math.softmax(outputs.logits, axis=-1)\n",
        "print(predictions)"
      ],
      "metadata": {
        "colab": {
          "base_uri": "https://localhost:8080/"
        },
        "id": "MAyiYXcFfU2W",
        "outputId": "78b863cc-7b05-41ee-8e7a-d9ab539c0f1c"
      },
      "execution_count": 13,
      "outputs": [
        {
          "output_type": "stream",
          "name": "stdout",
          "text": [
            "tf.Tensor(\n",
            "[[4.0195297e-02 9.5980471e-01]\n",
            " [9.9945587e-01 5.4418371e-04]], shape=(2, 2), dtype=float32)\n"
          ]
        }
      ]
    },
    {
      "cell_type": "code",
      "source": [
        "model.config.id2label\n",
        "\n",
        "# [Negative : 0.04195, Positive : 0.9598]\n",
        "# [Negative : 0.99945, Postive  : 0.0005441]"
      ],
      "metadata": {
        "colab": {
          "base_uri": "https://localhost:8080/"
        },
        "id": "QTxffErke8Xf",
        "outputId": "ca7cf36e-b214-4242-81df-284a67226690"
      },
      "execution_count": 10,
      "outputs": [
        {
          "output_type": "execute_result",
          "data": {
            "text/plain": [
              "{0: 'NEGATIVE', 1: 'POSITIVE'}"
            ]
          },
          "metadata": {},
          "execution_count": 10
        }
      ]
    }
  ]
}